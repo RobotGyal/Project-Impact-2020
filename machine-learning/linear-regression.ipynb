{
 "metadata": {
  "language_info": {
   "codemirror_mode": {
    "name": "ipython",
    "version": 3
   },
   "file_extension": ".py",
   "mimetype": "text/x-python",
   "name": "python",
   "nbconvert_exporter": "python",
   "pygments_lexer": "ipython3",
   "version": "3.7.6-final"
  },
  "orig_nbformat": 2,
  "kernelspec": {
   "name": "Python 3.7.6 64-bit",
   "display_name": "Python 3.7.6 64-bit",
   "metadata": {
    "interpreter": {
     "hash": "df955ce39d0f31d56d4bb2fe0a613e5326ba60723fd33d8303a3aede8f65715c"
    }
   }
  }
 },
 "nbformat": 4,
 "nbformat_minor": 2,
 "cells": [
  {
   "source": [
    "# ___Imports___"
   ],
   "cell_type": "markdown",
   "metadata": {}
  },
  {
   "cell_type": "code",
   "execution_count": 1,
   "metadata": {},
   "outputs": [],
   "source": [
    "import numpy as np\n",
    "import matplotlib.pyplot as plt\n",
    "import pandas as pd\n",
    "import seaborn as sns\n",
    "from scipy import stats\n",
    "import plotly.express as px\n",
    "from geopy.geocoders import Nominatim\n",
    "import geopy as gp\n",
    "from datetime import datetime\n",
    "from glob import glob"
   ]
  },
  {
   "source": [
    "# ___Load Data___"
   ],
   "cell_type": "markdown",
   "metadata": {}
  },
  {
   "cell_type": "code",
   "execution_count": 2,
   "metadata": {},
   "outputs": [
    {
     "output_type": "stream",
     "name": "stdout",
     "text": [
      "Index(['id', 'class', 'mass', 'fall', 'year', 'lat', 'long', 'Elevation'], dtype='object')\n"
     ]
    },
    {
     "output_type": "execute_result",
     "data": {
      "text/plain": [
       "(88705, 8)"
      ]
     },
     "metadata": {},
     "execution_count": 2
    }
   ],
   "source": [
    "# load data for nasa\n",
    "data = pd.read_csv('../data/ALL_DATA.csv')\n",
    "print(data.columns)\n",
    "\n",
    "data.head()\n",
    "np.shape(data)"
   ]
  },
  {
   "source": [
    "# ___Scaling (10%)___"
   ],
   "cell_type": "markdown",
   "metadata": {}
  },
  {
   "cell_type": "code",
   "execution_count": 10,
   "metadata": {},
   "outputs": [
    {
     "output_type": "stream",
     "name": "stdout",
     "text": [
      "Original Data Stats: \n",
      "\n",
      "                 id          mass         year          lat         long  \\\n",
      "count   8870.000000  4.528000e+03  8845.000000  8129.000000  8129.000000   \n",
      "mean   37088.161443  1.052552e+04  1999.494291     2.419902    39.815265   \n",
      "std    23712.552743  3.578561e+05    18.989401    52.968619    73.800775   \n",
      "min       12.000000  0.000000e+00  1632.000000   -87.366670  -165.433330   \n",
      "25%    16323.250000  6.900000e+00  1998.000000   -71.500000     5.611010   \n",
      "50%    34040.500000  3.070000e+01  2002.000000    28.759444    21.758056   \n",
      "75%    57024.500000  1.913500e+02  2008.000000    47.381944    75.316670   \n",
      "max    80667.000000  2.200000e+07  2020.000000    74.683333   178.050000   \n",
      "\n",
      "         Elevation  \n",
      "count  4330.000000  \n",
      "mean    345.282910  \n",
      "std     564.852553  \n",
      "min       0.000000  \n",
      "25%       0.000000  \n",
      "50%      80.000000  \n",
      "75%     447.500000  \n",
      "max    9999.000000  \n",
      "\n",
      "--------\n",
      "\n",
      "New Sample Data Stats: \n",
      "\n",
      "                 id          mass         year         lat        long  \\\n",
      "count    887.000000  4.490000e+02   884.000000  822.000000  822.000000   \n",
      "mean   36938.625705  9.669881e+03  1999.807692    1.201848   40.849519   \n",
      "std    23561.242988  1.440792e+05    15.260565   53.342685   71.177578   \n",
      "min       82.000000  2.200000e-01  1864.000000  -86.716670 -157.583333   \n",
      "25%    16236.500000  5.300000e+00  1998.000000  -71.500000    5.889097   \n",
      "50%    33585.000000  2.430000e+01  2002.000000   27.968611   21.740694   \n",
      "75%    56752.500000  2.150000e+02  2008.250000   47.365625   75.309725   \n",
      "max    80535.000000  3.000000e+06  2020.000000   64.450000  175.000000   \n",
      "\n",
      "         Elevation  \n",
      "count   437.000000  \n",
      "mean    334.148741  \n",
      "std     527.874254  \n",
      "min       0.000000  \n",
      "25%       0.000000  \n",
      "50%      72.000000  \n",
      "75%     450.000000  \n",
      "max    2400.000000  \n"
     ]
    }
   ],
   "source": [
    "# *****************************\n",
    "# HIGHLY IMPORTANT\n",
    "# *****************************\n",
    "\n",
    "# Sample data\n",
    "print(\"Original Data Stats: \\n\")\n",
    "print(data.describe())\n",
    "\n",
    "print('\\n--------\\n')\n",
    "\n",
    "print(\"New Sample Data Stats: \\n\")\n",
    "# all_data['year'].fillna(0).astype(int)\n",
    "# all_data['mass'].fillna(0).astype(int)\n",
    "\n",
    "\n",
    "data = data.sample(frac=0.1)  # 10% sample set\n",
    "print(data.describe())\n"
   ]
  },
  {
   "cell_type": "code",
   "execution_count": 12,
   "metadata": {},
   "outputs": [
    {
     "output_type": "stream",
     "name": "stdout",
     "text": [
      "            id class     mass   fall    year        lat        long  Elevation\n34395  21239.0    L6    12.40  Found  1997.0 -84.000000  168.000000        NaN\n48330  62598.0   NaN      NaN    NaN  2009.0  53.175000   11.000000       80.0\n41244  27885.0    H4    26.86  Found  1979.0 -71.500000   35.666670        NaN\n73115  30041.0   NaN      NaN    NaN  2003.0  10.473333  -66.823333      800.0\n57656  52849.0   NaN      NaN    NaN  1999.0  39.966667    0.016667       25.0\n...        ...   ...      ...    ...     ...        ...         ...        ...\n82166  13327.0   NaN      NaN    NaN  2004.0  18.541667   73.571667        0.0\n38078  24064.0    H5  2300.00  Found  1981.0  34.666670 -102.000000        NaN\n61495  71349.0   NaN      NaN    NaN  2015.0  53.116667   -2.066667        0.0\n41900  28603.0    H5    38.19  Found  1979.0 -71.500000   35.666670        NaN\n40166  26286.0   LL6     0.85  Found  1979.0 -71.500000   35.666670        NaN\n\n[887 rows x 8 columns]\n"
     ]
    },
    {
     "output_type": "execute_result",
     "data": {
      "text/plain": [
       "Index(['id', 'class', 'mass', 'fall', 'year', 'lat', 'long', 'Elevation'], dtype='object')"
      ]
     },
     "metadata": {},
     "execution_count": 12
    }
   ],
   "source": [
    "all_data = pd.DataFrame(data=data)\n",
    "print(all_data)\n",
    "# all_data.columns = data.feature_names\n",
    "# data['year'] = data.target\n",
    "\n",
    "# print(data.head())\n",
    "all_data.columns"
   ]
  },
  {
   "cell_type": "code",
   "execution_count": null,
   "metadata": {},
   "outputs": [],
   "source": []
  }
 ]
}