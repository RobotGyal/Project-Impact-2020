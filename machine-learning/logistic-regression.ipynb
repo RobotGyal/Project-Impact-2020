{
 "metadata": {
  "language_info": {
   "codemirror_mode": {
    "name": "ipython",
    "version": 3
   },
   "file_extension": ".py",
   "mimetype": "text/x-python",
   "name": "python",
   "nbconvert_exporter": "python",
   "pygments_lexer": "ipython3",
   "version": "3.7.6-final"
  },
  "orig_nbformat": 2,
  "kernelspec": {
   "name": "Python 3.7.6 64-bit",
   "display_name": "Python 3.7.6 64-bit",
   "metadata": {
    "interpreter": {
     "hash": "df955ce39d0f31d56d4bb2fe0a613e5326ba60723fd33d8303a3aede8f65715c"
    }
   }
  }
 },
 "nbformat": 4,
 "nbformat_minor": 2,
 "cells": [
  {
   "source": [
    "# ___Imports___"
   ],
   "cell_type": "markdown",
   "metadata": {}
  },
  {
   "cell_type": "code",
   "execution_count": 3,
   "metadata": {},
   "outputs": [],
   "source": [
    "import numpy as np\n",
    "import matplotlib.pyplot as plt\n",
    "import pandas as pd\n",
    "import seaborn as sns\n",
    "from scipy import stats\n",
    "from sklearn.model_selection import train_test_split\n",
    "from sklearn.linear_model import LinearRegression\n",
    "from sklearn.preprocessing import MinMaxScaler, StandardScaler\n",
    "from sklearn.metrics import mean_squared_error, confusion_matrix, r2_score, accuracy_score, recall_score, precision_score, classification_report\n",
    "from sklearn.pipeline import make_pipeline"
   ]
  },
  {
   "source": [
    "# ___Load Data___"
   ],
   "cell_type": "markdown",
   "metadata": {}
  },
  {
   "source": [
    "# load data\n",
    "data = pd.read_csv('../data/ALL_DATA.csv')\n",
    "print(data.columns)\n",
    "\n",
    "\n",
    "print(data.head())\n",
    "print(np.shape(data))\n",
    "  "
   ],
   "cell_type": "code",
   "metadata": {},
   "execution_count": 4,
   "outputs": [
    {
     "output_type": "stream",
     "name": "stdout",
     "text": [
      "Index(['id', 'class', 'mass', 'fall', 'year', 'lat', 'long', 'Elevation'], dtype='object')\n      id        class      mass  fall    year       lat       long   Elevation\n0    1.0           L5      21.0  Fell  1880.0  50.77500    6.08333  333.548386\n1    2.0           H6     720.0  Fell  1951.0  56.18333   10.23333  333.548386\n2    6.0          EH4  107000.0  Fell  1952.0  54.21667 -113.00000  333.548386\n3   10.0  Acapulcoite    1914.0  Fell  1976.0  16.88333  -99.90000  333.548386\n4  370.0           L6     780.0  Fell  1902.0 -33.16667  -64.95000  333.548386\n(88705, 8)\n"
     ]
    }
   ]
  },
  {
   "source": [
    "# ___Scaling (10%)___"
   ],
   "cell_type": "markdown",
   "metadata": {}
  },
  {
   "source": [
    "# *****************************\n",
    "# HIGHLY IMPORTANT\n",
    "# *****************************\n",
    "\n",
    "# Sample data\n",
    "print(\"Original Data Stats: \\n\")\n",
    "print(data.describe())\n",
    "\n",
    "print('\\n--------\\n')\n",
    "\n",
    "print(\"New Sample Data Stats: \\n\")\n",
    "# all_data['year'].fillna(0).astype(int)\n",
    "# all_data['mass'].fillna(0).astype(int)\n",
    "\n",
    "\n",
    "data = data.sample(frac=0.1)  # 10% sample set\n",
    "print(data.describe())\n"
   ],
   "cell_type": "code",
   "metadata": {},
   "execution_count": 5,
   "outputs": [
    {
     "output_type": "stream",
     "name": "stdout",
     "text": [
      "Original Data Stats: \n\n                 id          mass          year           lat          long  \\\ncount  88705.000000  8.870500e+04  88705.000000  88705.000000  88705.000000   \nmean   37088.348053  1.327808e+04   1999.326928      2.815932     38.871848   \nstd    23580.335315  4.121868e+05     21.440582     50.503054     70.303823   \nmin        1.000000  0.000000e+00    301.000000    -87.366670   -174.833333   \n25%    16281.000000  3.000000e+01   1998.000000    -38.630000      8.192500   \n50%    34337.000000  1.200000e+04   2002.000000     23.000000     26.000000   \n75%    56576.000000  1.327808e+04   2008.000000     45.968889     58.407850   \nmax    80694.000000  6.000000e+07   2501.000000     82.569167    354.473330   \n\n          Elevation  \ncount  88705.000000  \nmean     333.548386  \nstd      375.385323  \nmin      -11.000000  \n25%      100.000000  \n50%      333.548386  \n75%      333.548386  \nmax     9999.000000  \n\n--------\n\nNew Sample Data Stats: \n\n                 id          mass         year          lat         long  \\\ncount   8870.000000  8.870000e+03  8870.000000  8870.000000  8870.000000   \nmean   37242.228410  1.126159e+04  1999.636244     2.300610    37.651638   \nstd    23403.996457  2.591163e+05    17.900070    50.513337    70.056930   \nmin       29.000000  0.000000e+00  1662.000000   -86.716670  -165.116670   \n25%    16497.250000  2.702250e+01  1998.000000   -71.500000     6.747778   \n50%    34611.500000  4.999500e+03  2002.000000    20.987515    25.461168   \n75%    56563.750000  1.327808e+04  2009.000000    45.885625    56.490097   \nmax    80685.000000  2.400000e+07  2020.000000    74.683333   178.033333   \n\n         Elevation  \ncount  8870.000000  \nmean    341.480714  \nstd     376.171874  \nmin     -11.000000  \n25%     106.000000  \n50%     333.548386  \n75%     333.548386  \nmax    4720.000000  \n"
     ]
    }
   ]
  },
  {
   "cell_type": "code",
   "execution_count": null,
   "metadata": {},
   "outputs": [],
   "source": []
  }
 ]
}