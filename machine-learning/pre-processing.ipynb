{
 "metadata": {
  "language_info": {
   "codemirror_mode": {
    "name": "ipython",
    "version": 3
   },
   "file_extension": ".py",
   "mimetype": "text/x-python",
   "name": "python",
   "nbconvert_exporter": "python",
   "pygments_lexer": "ipython3",
   "version": "3.7.6-final"
  },
  "orig_nbformat": 2,
  "kernelspec": {
   "name": "Python 3.7.6 64-bit",
   "display_name": "Python 3.7.6 64-bit",
   "metadata": {
    "interpreter": {
     "hash": "df955ce39d0f31d56d4bb2fe0a613e5326ba60723fd33d8303a3aede8f65715c"
    }
   }
  }
 },
 "nbformat": 4,
 "nbformat_minor": 2,
 "cells": [
  {
   "source": [
    "# ___Imports___"
   ],
   "cell_type": "markdown",
   "metadata": {}
  },
  {
   "cell_type": "code",
   "execution_count": 5,
   "metadata": {},
   "outputs": [],
   "source": [
    "import numpy as np\n",
    "import matplotlib.pyplot as plt\n",
    "import pandas as pd\n",
    "import seaborn as sns\n",
    "from scipy import stats\n",
    "# import plotly.express as px\n",
    "# from geopy.geocoders import Nominatim\n",
    "# import geopy as gp\n",
    "# from datetime import datetime\n",
    "# from glob import glob"
   ]
  },
  {
   "source": [
    "## ___NASA data___"
   ],
   "cell_type": "markdown",
   "metadata": {}
  },
  {
   "cell_type": "code",
   "execution_count": 6,
   "metadata": {},
   "outputs": [
    {
     "output_type": "stream",
     "name": "stdout",
     "text": [
      "Index(['name', 'id', 'nametype', 'recclass', 'mass', 'fall', 'year', 'reclat',\n       'reclong', 'GeoLocation'],\n      dtype='object')\n"
     ]
    },
    {
     "output_type": "execute_result",
     "data": {
      "text/plain": [
       "(45716, 10)"
      ]
     },
     "metadata": {},
     "execution_count": 6
    }
   ],
   "source": [
    "# load data for nasa\n",
    "nasa_data = pd.read_csv('../data/meteorite-landings.csv')\n",
    "print(nasa_data.columns)\n",
    "\n",
    "nasa_data.head()\n",
    "np.shape(nasa_data)"
   ]
  },
  {
   "source": [
    "## ___IMO data___"
   ],
   "cell_type": "markdown",
   "metadata": {}
  },
  {
   "cell_type": "code",
   "execution_count": 7,
   "metadata": {},
   "outputs": [
    {
     "output_type": "stream",
     "name": "stdout",
     "text": [
      "Index(['Session ID', 'Start Date', 'Observer ID', 'Submitter ID',\n       'Actual Observer Name', 'Submitted by', 'City', 'Country', 'Latitude',\n       'Longitude', 'Elevation'],\n      dtype='object')\n"
     ]
    },
    {
     "output_type": "execute_result",
     "data": {
      "text/plain": [
       "(42989, 11)"
      ]
     },
     "metadata": {},
     "execution_count": 7
    }
   ],
   "source": [
    "# load data for imo\n",
    "imo_data = pd.read_csv('../data/IMO/data/IMO9920.csv')\n",
    "print(imo_data.columns)\n",
    "\n",
    "imo_data.head()\n",
    "np.shape(imo_data)"
   ]
  },
  {
   "source": [
    "## ___Combining data___"
   ],
   "cell_type": "markdown",
   "metadata": {}
  },
  {
   "cell_type": "code",
   "execution_count": 8,
   "metadata": {},
   "outputs": [
    {
     "output_type": "stream",
     "name": "stdout",
     "text": [
      "Index(['name', 'id', 'nametype', 'recclass', 'mass', 'fall', 'year', 'reclat',\n",
      "       'reclong', 'GeoLocation', 'Session ID', 'Start Date', 'Observer ID',\n",
      "       'Submitter ID', 'Actual Observer Name', 'Submitted by', 'City',\n",
      "       'Country', 'Latitude', 'Longitude', 'Elevation'],\n",
      "      dtype='object')\n",
      "<bound method NDFrame.head of                 name     id nametype     recclass      mass  fall    year  \\\n",
      "NASA 0        Aachen    1.0    Valid           L5      21.0  Fell  1880.0   \n",
      "     1        Aarhus    2.0    Valid           H6     720.0  Fell  1951.0   \n",
      "     2          Abee    6.0    Valid          EH4  107000.0  Fell  1952.0   \n",
      "     3      Acapulco   10.0    Valid  Acapulcoite    1914.0  Fell  1976.0   \n",
      "     4       Achiras  370.0    Valid           L6     780.0  Fell  1902.0   \n",
      "...              ...    ...      ...          ...       ...   ...     ...   \n",
      "IMO  42984       NaN    NaN      NaN          NaN       NaN   NaN     NaN   \n",
      "     42985       NaN    NaN      NaN          NaN       NaN   NaN     NaN   \n",
      "     42986       NaN    NaN      NaN          NaN       NaN   NaN     NaN   \n",
      "     42987       NaN    NaN      NaN          NaN       NaN   NaN     NaN   \n",
      "     42988       NaN    NaN      NaN          NaN       NaN   NaN     NaN   \n",
      "\n",
      "              reclat    reclong               GeoLocation  ...  \\\n",
      "NASA 0      50.77500    6.08333     (50.775000, 6.083330)  ...   \n",
      "     1      56.18333   10.23333    (56.183330, 10.233330)  ...   \n",
      "     2      54.21667 -113.00000  (54.216670, -113.000000)  ...   \n",
      "     3      16.88333  -99.90000   (16.883330, -99.900000)  ...   \n",
      "     4     -33.16667  -64.95000  (-33.166670, -64.950000)  ...   \n",
      "...              ...        ...                       ...  ...   \n",
      "IMO  42984       NaN        NaN                       NaN  ...   \n",
      "     42985       NaN        NaN                       NaN  ...   \n",
      "     42986       NaN        NaN                       NaN  ...   \n",
      "     42987       NaN        NaN                       NaN  ...   \n",
      "     42988       NaN        NaN                       NaN  ...   \n",
      "\n",
      "                     Start Date Observer ID  Submitter ID  \\\n",
      "NASA 0                      NaN         NaN           NaN   \n",
      "     1                      NaN         NaN           NaN   \n",
      "     2                      NaN         NaN           NaN   \n",
      "     3                      NaN         NaN           NaN   \n",
      "     4                      NaN         NaN           NaN   \n",
      "...                         ...         ...           ...   \n",
      "IMO  42984  2005-01-10 13:15:00      7956.0        7956.0   \n",
      "     42985  2005-01-13 13:00:00      7956.0        7956.0   \n",
      "     42986  2005-07-29 11:10:00      7956.0        7956.0   \n",
      "     42987  2005-07-30 14:55:00      7956.0        7956.0   \n",
      "     42988  2005-03-09 19:37:00      1651.0        1651.0   \n",
      "\n",
      "            Actual Observer Name    Submitted by                City  \\\n",
      "NASA 0                       NaN             NaN                 NaN   \n",
      "     1                       NaN             NaN                 NaN   \n",
      "     2                       NaN             NaN                 NaN   \n",
      "     3                       NaN             NaN                 NaN   \n",
      "     4                       NaN             NaN                 NaN   \n",
      "...                          ...             ...                 ...   \n",
      "IMO  42984            Adam Marsh      Adam Marsh  Pakenham, Victoria   \n",
      "     42985            Adam Marsh      Adam Marsh  Pakenham, Victoria   \n",
      "     42986            Adam Marsh      Adam Marsh          Ladys Pass   \n",
      "     42987            Adam Marsh      Adam Marsh          Ladys Pass   \n",
      "     42988        Jaroslaw Dygos  Jaroslaw Dygos     Czernice Borowe   \n",
      "\n",
      "              Country   Latitude   Longitude  Elevation  \n",
      "NASA 0            NaN        NaN         NaN        NaN  \n",
      "     1            NaN        NaN         NaN        NaN  \n",
      "     2            NaN        NaN         NaN        NaN  \n",
      "     3            NaN        NaN         NaN        NaN  \n",
      "     4            NaN        NaN         NaN        NaN  \n",
      "...               ...        ...         ...        ...  \n",
      "IMO  42984  Australia -38.000000  145.000000      100.0  \n",
      "     42985  Australia -38.000000  145.000000      100.0  \n",
      "     42986  Australia -36.816110  144.680991      233.0  \n",
      "     42987  Australia -36.816110  144.680991      233.0  \n",
      "     42988     Poland  53.033333   20.716667      150.0  \n",
      "\n",
      "[88705 rows x 21 columns]>\n"
     ]
    },
    {
     "output_type": "execute_result",
     "data": {
      "text/plain": [
       "(88705, 21)"
      ]
     },
     "metadata": {},
     "execution_count": 8
    }
   ],
   "source": [
    "# Combine the 2 datasets into 1\n",
    "all_data = pd.concat([nasa_data, imo_data], sort=False, keys=['NASA', 'IMO'])\n",
    "# Show columns, first 5 rows, and shape to verify combination\n",
    "print(all_data.columns)\n",
    "print(all_data.head)\n",
    "np.shape(all_data)\n"
   ]
  },
  {
   "source": [
    "# ___NOTES___\n",
    "\n",
    "- Before Sampling\n",
    "- Nasa data ranges from index 0:45715\n",
    "- IMO data ranges from index 45716:end"
   ],
   "cell_type": "markdown",
   "metadata": {}
  },
  {
   "source": [
    "## ___Cleaning___"
   ],
   "cell_type": "markdown",
   "metadata": {}
  },
  {
   "cell_type": "code",
   "execution_count": 9,
   "metadata": {},
   "outputs": [
    {
     "output_type": "stream",
     "name": "stdout",
     "text": [
      "<bound method NDFrame.head of                 name     id nametype     recclass      mass  fall    year  \\\nNASA 0        Aachen    1.0    Valid           L5      21.0  Fell  1880.0   \n     1        Aarhus    2.0    Valid           H6     720.0  Fell  1951.0   \n     2          Abee    6.0    Valid          EH4  107000.0  Fell  1952.0   \n     3      Acapulco   10.0    Valid  Acapulcoite    1914.0  Fell  1976.0   \n     4       Achiras  370.0    Valid           L6     780.0  Fell  1902.0   \n...              ...    ...      ...          ...       ...   ...     ...   \nIMO  42984       NaN    NaN      NaN          NaN       NaN   NaN     NaN   \n     42985       NaN    NaN      NaN          NaN       NaN   NaN     NaN   \n     42986       NaN    NaN      NaN          NaN       NaN   NaN     NaN   \n     42987       NaN    NaN      NaN          NaN       NaN   NaN     NaN   \n     42988       NaN    NaN      NaN          NaN       NaN   NaN     NaN   \n\n              reclat    reclong               GeoLocation  ...  \\\nNASA 0      50.77500    6.08333     (50.775000, 6.083330)  ...   \n     1      56.18333   10.23333    (56.183330, 10.233330)  ...   \n     2      54.21667 -113.00000  (54.216670, -113.000000)  ...   \n     3      16.88333  -99.90000   (16.883330, -99.900000)  ...   \n     4     -33.16667  -64.95000  (-33.166670, -64.950000)  ...   \n...              ...        ...                       ...  ...   \nIMO  42984       NaN        NaN                       NaN  ...   \n     42985       NaN        NaN                       NaN  ...   \n     42986       NaN        NaN                       NaN  ...   \n     42987       NaN        NaN                       NaN  ...   \n     42988       NaN        NaN                       NaN  ...   \n\n                     Start Date Observer ID  Submitter ID  \\\nNASA 0                      NaN         NaN           NaN   \n     1                      NaN         NaN           NaN   \n     2                      NaN         NaN           NaN   \n     3                      NaN         NaN           NaN   \n     4                      NaN         NaN           NaN   \n...                         ...         ...           ...   \nIMO  42984  2005-01-10 13:15:00      7956.0        7956.0   \n     42985  2005-01-13 13:00:00      7956.0        7956.0   \n     42986  2005-07-29 11:10:00      7956.0        7956.0   \n     42987  2005-07-30 14:55:00      7956.0        7956.0   \n     42988  2005-03-09 19:37:00      1651.0        1651.0   \n\n            Actual Observer Name    Submitted by                City  \\\nNASA 0                       NaN             NaN                 NaN   \n     1                       NaN             NaN                 NaN   \n     2                       NaN             NaN                 NaN   \n     3                       NaN             NaN                 NaN   \n     4                       NaN             NaN                 NaN   \n...                          ...             ...                 ...   \nIMO  42984            Adam Marsh      Adam Marsh  Pakenham, Victoria   \n     42985            Adam Marsh      Adam Marsh  Pakenham, Victoria   \n     42986            Adam Marsh      Adam Marsh          Ladys Pass   \n     42987            Adam Marsh      Adam Marsh          Ladys Pass   \n     42988        Jaroslaw Dygos  Jaroslaw Dygos     Czernice Borowe   \n\n              Country   Latitude   Longitude  Elevation  \nNASA 0            NaN        NaN         NaN        NaN  \n     1            NaN        NaN         NaN        NaN  \n     2            NaN        NaN         NaN        NaN  \n     3            NaN        NaN         NaN        NaN  \n     4            NaN        NaN         NaN        NaN  \n...               ...        ...         ...        ...  \nIMO  42984  Australia -38.000000  145.000000      100.0  \n     42985  Australia -38.000000  145.000000      100.0  \n     42986  Australia -36.816110  144.680991      233.0  \n     42987  Australia -36.816110  144.680991      233.0  \n     42988     Poland  53.033333   20.716667      150.0  \n\n[88705 rows x 21 columns]>\n(88705, 21)\n"
     ]
    }
   ],
   "source": [
    "# Confirmation of dropped columns\n",
    "print(all_data.head)\n",
    "print(np.shape(all_data))"
   ]
  },
  {
   "cell_type": "code",
   "execution_count": 10,
   "metadata": {},
   "outputs": [],
   "source": [
    "# Drop unnecessary columns\n",
    "\n",
    "all_data = all_data.drop(['name', 'nametype', 'GeoLocation', 'Observer ID', 'Submitter ID', 'Actual Observer Name', 'Submitted by'], axis=1)"
   ]
  },
  {
   "cell_type": "code",
   "execution_count": 11,
   "metadata": {},
   "outputs": [
    {
     "output_type": "execute_result",
     "data": {
      "text/plain": [
       "id            42989\n",
       "recclass      42989\n",
       "mass          43120\n",
       "fall          42989\n",
       "year          43277\n",
       "reclat        50304\n",
       "reclong       50304\n",
       "Session ID    45716\n",
       "Start Date    45716\n",
       "City          45728\n",
       "Country       45728\n",
       "Latitude      45728\n",
       "Longitude     45728\n",
       "Elevation     45728\n",
       "dtype: int64"
      ]
     },
     "metadata": {},
     "execution_count": 11
    }
   ],
   "source": [
    "# Check for Null Values\n",
    "\n",
    "all_data.isnull().sum()\n"
   ]
  },
  {
   "cell_type": "code",
   "execution_count": 12,
   "metadata": {},
   "outputs": [],
   "source": [
    "# merge IMO ids to NASA NaN ids\n",
    "all_data['id'] = all_data['id'].replace(np.NaN, all_data['Session ID'][45716:])"
   ]
  },
  {
   "cell_type": "code",
   "execution_count": 13,
   "metadata": {},
   "outputs": [],
   "source": [
    "# merge IMO latitudess to NASA NaN latitudes\n",
    "all_data['reclat'] = all_data['reclat'].replace(np.NaN, all_data['Latitude'][45716:])"
   ]
  },
  {
   "cell_type": "code",
   "execution_count": 14,
   "metadata": {},
   "outputs": [],
   "source": [
    "# merge IMO longitudes to NASA NaN longitudes\n",
    "all_data['reclong'] = all_data['reclong'].replace(np.NaN, all_data['Longitude'][45716:])"
   ]
  },
  {
   "cell_type": "code",
   "execution_count": 15,
   "metadata": {},
   "outputs": [
    {
     "output_type": "execute_result",
     "data": {
      "text/plain": [
       "<bound method NDFrame.tail of NASA  0         NaN\n",
       "      1         NaN\n",
       "      2         NaN\n",
       "      3         NaN\n",
       "      4         NaN\n",
       "               ... \n",
       "IMO   42984    2005\n",
       "      42985    2005\n",
       "      42986    2005\n",
       "      42987    2005\n",
       "      42988    2005\n",
       "Name: Start Date, Length: 88705, dtype: object>"
      ]
     },
     "metadata": {},
     "execution_count": 15
    }
   ],
   "source": [
    "# Convert the IMO Start Date to NASA year\n",
    "for i in range(45716, np.shape(all_data)[0]):\n",
    "    all_data['Start Date'][i] = all_data['Start Date'][i][:4]\n",
    "\n",
    "all_data['Start Date'].tail"
   ]
  },
  {
   "cell_type": "code",
   "execution_count": 16,
   "metadata": {},
   "outputs": [],
   "source": [
    "# merge IMO start dates to NASA NaN year\n",
    "all_data['year'] = all_data['year'].replace(np.NaN, all_data['Start Date'][45716:])"
   ]
  },
  {
   "cell_type": "code",
   "execution_count": 17,
   "metadata": {},
   "outputs": [
    {
     "output_type": "stream",
     "name": "stdout",
     "text": [
      "id                0\nrecclass      42989\nmass          43120\nfall          42989\nyear            288\nreclat         7327\nreclong        7327\nSession ID    45716\nStart Date    45716\nCity          45728\nCountry       45728\nLatitude      45728\nLongitude     45728\nElevation     45728\ndtype: int64\n"
     ]
    }
   ],
   "source": [
    "print(all_data.isnull().sum())"
   ]
  },
  {
   "cell_type": "code",
   "execution_count": 18,
   "metadata": {},
   "outputs": [
    {
     "output_type": "execute_result",
     "data": {
      "text/plain": [
       "'2008'"
      ]
     },
     "metadata": {},
     "execution_count": 18
    }
   ],
   "source": [
    "test = all_data['Start Date'].iloc[45716]\n",
    "test[:4]"
   ]
  },
  {
   "cell_type": "code",
   "execution_count": 19,
   "metadata": {},
   "outputs": [
    {
     "output_type": "execute_result",
     "data": {
      "text/plain": [
       "Index(['id', 'recclass', 'mass', 'fall', 'year', 'reclat', 'reclong',\n",
       "       'Session ID', 'Start Date', 'City', 'Country', 'Latitude', 'Longitude',\n",
       "       'Elevation'],\n",
       "      dtype='object')"
      ]
     },
     "metadata": {},
     "execution_count": 19
    }
   ],
   "source": [
    "all_data.columns"
   ]
  },
  {
   "cell_type": "code",
   "execution_count": 20,
   "metadata": {},
   "outputs": [],
   "source": [
    "# Rename (and Re-drop) columns\n",
    "all_data = all_data.drop(['Session ID', 'Start Date', 'City', 'Country', 'Latitude', 'Longitude'], axis=1)\n",
    "all_data.rename(columns={'recclass':'class', 'reclat':'lat', 'reclong':'long'}, inplace=True)"
   ]
  },
  {
   "cell_type": "code",
   "execution_count": 21,
   "metadata": {},
   "outputs": [
    {
     "output_type": "stream",
     "name": "stdout",
     "text": [
      "Index(['id', 'class', 'mass', 'fall', 'year', 'lat', 'long', 'Elevation'], dtype='object')\n(88705, 8)\nid               0\nclass        42989\nmass         43120\nfall         42989\nyear           288\nlat           7327\nlong          7327\nElevation    45728\ndtype: int64\n"
     ]
    }
   ],
   "source": [
    "print(all_data.columns)\n",
    "print(np.shape(all_data))\n",
    "print(all_data.isnull().sum())\n",
    "# FIXME half the values are NaN in some columns, due to there being no correlated match on the other dataset. Find a solution to get rid of NaN values"
   ]
  },
  {
   "source": [
    "# ___Fix rest of NaN values___"
   ],
   "cell_type": "markdown",
   "metadata": {}
  },
  {
   "cell_type": "code",
   "execution_count": 25,
   "metadata": {},
   "outputs": [
    {
     "output_type": "stream",
     "name": "stderr",
     "text": [
      "/usr/local/lib/python3.7/site-packages/sklearn/utils/deprecation.py:66: DeprecationWarning: Class Imputer is deprecated; Imputer was deprecated in version 0.20 and will be removed in 0.22. Import impute.SimpleImputer from sklearn instead.\n",
      "  warnings.warn(msg, category=DeprecationWarning)\n",
      "id               0\n",
      "class        42989\n",
      "mass             0\n",
      "fall         42989\n",
      "year             0\n",
      "lat              0\n",
      "long             0\n",
      "Elevation        0\n",
      "dtype: int64\n"
     ]
    }
   ],
   "source": [
    "# Replace Numerical NaN Values with mean\n",
    "from sklearn.preprocessing import Imputer\n",
    "imputer = Imputer(missing_values=np.nan, strategy='mean', axis=0)\n",
    "all_data[['mass']] = imputer.fit_transform(all_data[['mass']])\n",
    "all_data[['year']] = imputer.fit_transform(all_data[['year']])\n",
    "all_data[['lat']] = imputer.fit_transform(all_data[['lat']])\n",
    "all_data[['long']] = imputer.fit_transform(all_data[['long']])\n",
    "all_data[['Elevation']] = imputer.fit_transform(all_data[['Elevation']])\n",
    "\n",
    "print(all_data.isnull().sum())\n"
   ]
  },
  {
   "cell_type": "code",
   "execution_count": 27,
   "metadata": {},
   "outputs": [
    {
     "output_type": "stream",
     "name": "stdout",
     "text": [
      "id           0\nclass        0\nmass         0\nfall         0\nyear         0\nlat          0\nlong         0\nElevation    0\ndtype: int64\n"
     ]
    }
   ],
   "source": [
    "# Replace Categorical NaN with 'N/A'\n",
    "all_data['class'] = all_data['class'].replace(np.NaN, 'N/A')\n",
    "all_data['fall'] = all_data['fall'].replace(np.NaN, 'N/A')\n",
    "print(all_data.isnull().sum())"
   ]
  },
  {
   "cell_type": "code",
   "execution_count": 29,
   "metadata": {},
   "outputs": [
    {
     "output_type": "display_data",
     "data": {
      "text/plain": "<Figure size 648x432 with 2 Axes>",
      "image/svg+xml": "<?xml version=\"1.0\" encoding=\"utf-8\" standalone=\"no\"?>\n<!DOCTYPE svg PUBLIC \"-//W3C//DTD SVG 1.1//EN\"\n  \"http://www.w3.org/Graphics/SVG/1.1/DTD/svg11.dtd\">\n<!-- Created with matplotlib (https://matplotlib.org/) -->\n<svg height=\"361.037344pt\" version=\"1.1\" viewBox=\"0 0 429.938937 361.037344\" width=\"429.938937pt\" xmlns=\"http://www.w3.org/2000/svg\" xmlns:xlink=\"http://www.w3.org/1999/xlink\">\n <defs>\n  <style type=\"text/css\">\n*{stroke-linecap:butt;stroke-linejoin:round;}\n  </style>\n </defs>\n <g id=\"figure_1\">\n  <g id=\"patch_1\">\n   <path d=\"M 0 361.037344 \nL 429.938937 361.037344 \nL 429.938937 0 \nL 0 0 \nz\n\" style=\"fill:none;\"/>\n  </g>\n  <g id=\"axes_1\">\n   <g id=\"patch_2\">\n    <path d=\"M 23.878125 337.159219 \nL 350.038125 337.159219 \nL 350.038125 10.999219 \nL 23.878125 10.999219 \nz\n\" style=\"fill:#ffffff;\"/>\n   </g>\n   <g id=\"QuadMesh_1\">\n    <path clip-path=\"url(#p1fe352fe04)\" d=\"M 23.878125 10.999219 \nL 78.238125 10.999219 \nL 78.238125 65.359219 \nL 23.878125 65.359219 \nL 23.878125 10.999219 \n\" style=\"fill:#faebdd;\"/>\n    <path clip-path=\"url(#p1fe352fe04)\" d=\"M 78.238125 10.999219 \nL 132.598125 10.999219 \nL 132.598125 65.359219 \nL 78.238125 65.359219 \nL 78.238125 10.999219 \n\" style=\"fill:#9e1a5b;\"/>\n    <path clip-path=\"url(#p1fe352fe04)\" d=\"M 132.598125 10.999219 \nL 186.958125 10.999219 \nL 186.958125 65.359219 \nL 132.598125 65.359219 \nL 132.598125 10.999219 \n\" style=\"fill:#f47d57;\"/>\n    <path clip-path=\"url(#p1fe352fe04)\" d=\"M 186.958125 10.999219 \nL 241.318125 10.999219 \nL 241.318125 65.359219 \nL 186.958125 65.359219 \nL 186.958125 10.999219 \n\" style=\"fill:#f26f4c;\"/>\n    <path clip-path=\"url(#p1fe352fe04)\" d=\"M 241.318125 10.999219 \nL 295.678125 10.999219 \nL 295.678125 65.359219 \nL 241.318125 65.359219 \nL 241.318125 10.999219 \n\" style=\"fill:#531e4d;\"/>\n    <path clip-path=\"url(#p1fe352fe04)\" d=\"M 295.678125 10.999219 \nL 350.038125 10.999219 \nL 350.038125 65.359219 \nL 295.678125 65.359219 \nL 295.678125 10.999219 \n\" style=\"fill:#ce1d4e;\"/>\n    <path clip-path=\"url(#p1fe352fe04)\" d=\"M 23.878125 65.359219 \nL 78.238125 65.359219 \nL 78.238125 119.719219 \nL 23.878125 119.719219 \nL 23.878125 65.359219 \n\" style=\"fill:#9e1a5b;\"/>\n    <path clip-path=\"url(#p1fe352fe04)\" d=\"M 78.238125 65.359219 \nL 132.598125 65.359219 \nL 132.598125 119.719219 \nL 78.238125 119.719219 \nL 78.238125 65.359219 \n\" style=\"fill:#faebdd;\"/>\n    <path clip-path=\"url(#p1fe352fe04)\" d=\"M 132.598125 65.359219 \nL 186.958125 65.359219 \nL 186.958125 119.719219 \nL 132.598125 119.719219 \nL 132.598125 65.359219 \n\" style=\"fill:#811e5a;\"/>\n    <path clip-path=\"url(#p1fe352fe04)\" d=\"M 186.958125 65.359219 \nL 241.318125 65.359219 \nL 241.318125 119.719219 \nL 186.958125 119.719219 \nL 186.958125 65.359219 \n\" style=\"fill:#a6195a;\"/>\n    <path clip-path=\"url(#p1fe352fe04)\" d=\"M 241.318125 65.359219 \nL 295.678125 65.359219 \nL 295.678125 119.719219 \nL 241.318125 119.719219 \nL 241.318125 65.359219 \n\" style=\"fill:#9c1b5b;\"/>\n    <path clip-path=\"url(#p1fe352fe04)\" d=\"M 295.678125 65.359219 \nL 350.038125 65.359219 \nL 350.038125 119.719219 \nL 295.678125 119.719219 \nL 295.678125 65.359219 \n\" style=\"fill:#a11a5b;\"/>\n    <path clip-path=\"url(#p1fe352fe04)\" d=\"M 23.878125 119.719219 \nL 78.238125 119.719219 \nL 78.238125 174.079219 \nL 23.878125 174.079219 \nL 23.878125 119.719219 \n\" style=\"fill:#f47d57;\"/>\n    <path clip-path=\"url(#p1fe352fe04)\" d=\"M 78.238125 119.719219 \nL 132.598125 119.719219 \nL 132.598125 174.079219 \nL 78.238125 174.079219 \nL 78.238125 119.719219 \n\" style=\"fill:#811e5a;\"/>\n    <path clip-path=\"url(#p1fe352fe04)\" d=\"M 132.598125 119.719219 \nL 186.958125 119.719219 \nL 186.958125 174.079219 \nL 132.598125 174.079219 \nL 132.598125 119.719219 \n\" style=\"fill:#faebdd;\"/>\n    <path clip-path=\"url(#p1fe352fe04)\" d=\"M 186.958125 119.719219 \nL 241.318125 119.719219 \nL 241.318125 174.079219 \nL 186.958125 174.079219 \nL 186.958125 119.719219 \n\" style=\"fill:#e13342;\"/>\n    <path clip-path=\"url(#p1fe352fe04)\" d=\"M 241.318125 119.719219 \nL 295.678125 119.719219 \nL 295.678125 174.079219 \nL 241.318125 174.079219 \nL 241.318125 119.719219 \n\" style=\"fill:#8c1d5b;\"/>\n    <path clip-path=\"url(#p1fe352fe04)\" d=\"M 295.678125 119.719219 \nL 350.038125 119.719219 \nL 350.038125 174.079219 \nL 295.678125 174.079219 \nL 295.678125 119.719219 \n\" style=\"fill:#b21758;\"/>\n    <path clip-path=\"url(#p1fe352fe04)\" d=\"M 23.878125 174.079219 \nL 78.238125 174.079219 \nL 78.238125 228.439219 \nL 23.878125 228.439219 \nL 23.878125 174.079219 \n\" style=\"fill:#f26f4c;\"/>\n    <path clip-path=\"url(#p1fe352fe04)\" d=\"M 78.238125 174.079219 \nL 132.598125 174.079219 \nL 132.598125 228.439219 \nL 78.238125 228.439219 \nL 78.238125 174.079219 \n\" style=\"fill:#a6195a;\"/>\n    <path clip-path=\"url(#p1fe352fe04)\" d=\"M 132.598125 174.079219 \nL 186.958125 174.079219 \nL 186.958125 228.439219 \nL 132.598125 228.439219 \nL 132.598125 174.079219 \n\" style=\"fill:#e13342;\"/>\n    <path clip-path=\"url(#p1fe352fe04)\" d=\"M 186.958125 174.079219 \nL 241.318125 174.079219 \nL 241.318125 228.439219 \nL 186.958125 228.439219 \nL 186.958125 174.079219 \n\" style=\"fill:#faebdd;\"/>\n    <path clip-path=\"url(#p1fe352fe04)\" d=\"M 241.318125 174.079219 \nL 295.678125 174.079219 \nL 295.678125 228.439219 \nL 241.318125 228.439219 \nL 241.318125 174.079219 \n\" style=\"fill:#03051a;\"/>\n    <path clip-path=\"url(#p1fe352fe04)\" d=\"M 295.678125 174.079219 \nL 350.038125 174.079219 \nL 350.038125 228.439219 \nL 295.678125 228.439219 \nL 295.678125 174.079219 \n\" style=\"fill:#981b5b;\"/>\n    <path clip-path=\"url(#p1fe352fe04)\" d=\"M 23.878125 228.439219 \nL 78.238125 228.439219 \nL 78.238125 282.799219 \nL 23.878125 282.799219 \nL 23.878125 228.439219 \n\" style=\"fill:#531e4d;\"/>\n    <path clip-path=\"url(#p1fe352fe04)\" d=\"M 78.238125 228.439219 \nL 132.598125 228.439219 \nL 132.598125 282.799219 \nL 78.238125 282.799219 \nL 78.238125 228.439219 \n\" style=\"fill:#9c1b5b;\"/>\n    <path clip-path=\"url(#p1fe352fe04)\" d=\"M 132.598125 228.439219 \nL 186.958125 228.439219 \nL 186.958125 282.799219 \nL 132.598125 282.799219 \nL 132.598125 228.439219 \n\" style=\"fill:#8c1d5b;\"/>\n    <path clip-path=\"url(#p1fe352fe04)\" d=\"M 186.958125 228.439219 \nL 241.318125 228.439219 \nL 241.318125 282.799219 \nL 186.958125 282.799219 \nL 186.958125 228.439219 \n\" style=\"fill:#03051a;\"/>\n    <path clip-path=\"url(#p1fe352fe04)\" d=\"M 241.318125 228.439219 \nL 295.678125 228.439219 \nL 295.678125 282.799219 \nL 241.318125 282.799219 \nL 241.318125 228.439219 \n\" style=\"fill:#faebdd;\"/>\n    <path clip-path=\"url(#p1fe352fe04)\" d=\"M 295.678125 228.439219 \nL 350.038125 228.439219 \nL 350.038125 282.799219 \nL 295.678125 282.799219 \nL 295.678125 228.439219 \n\" style=\"fill:#731f58;\"/>\n    <path clip-path=\"url(#p1fe352fe04)\" d=\"M 23.878125 282.799219 \nL 78.238125 282.799219 \nL 78.238125 337.159219 \nL 23.878125 337.159219 \nL 23.878125 282.799219 \n\" style=\"fill:#ce1d4e;\"/>\n    <path clip-path=\"url(#p1fe352fe04)\" d=\"M 78.238125 282.799219 \nL 132.598125 282.799219 \nL 132.598125 337.159219 \nL 78.238125 337.159219 \nL 78.238125 282.799219 \n\" style=\"fill:#a11a5b;\"/>\n    <path clip-path=\"url(#p1fe352fe04)\" d=\"M 132.598125 282.799219 \nL 186.958125 282.799219 \nL 186.958125 337.159219 \nL 132.598125 337.159219 \nL 132.598125 282.799219 \n\" style=\"fill:#b21758;\"/>\n    <path clip-path=\"url(#p1fe352fe04)\" d=\"M 186.958125 282.799219 \nL 241.318125 282.799219 \nL 241.318125 337.159219 \nL 186.958125 337.159219 \nL 186.958125 282.799219 \n\" style=\"fill:#981b5b;\"/>\n    <path clip-path=\"url(#p1fe352fe04)\" d=\"M 241.318125 282.799219 \nL 295.678125 282.799219 \nL 295.678125 337.159219 \nL 241.318125 337.159219 \nL 241.318125 282.799219 \n\" style=\"fill:#731f58;\"/>\n    <path clip-path=\"url(#p1fe352fe04)\" d=\"M 295.678125 282.799219 \nL 350.038125 282.799219 \nL 350.038125 337.159219 \nL 295.678125 337.159219 \nL 295.678125 282.799219 \n\" style=\"fill:#faebdd;\"/>\n   </g>\n   <g id=\"matplotlib.axis_1\">\n    <g id=\"xtick_1\">\n     <g id=\"line2d_1\">\n      <defs>\n       <path d=\"M 0 0 \nL 0 3.5 \n\" id=\"m3ffce50208\" style=\"stroke:#000000;stroke-width:0.8;\"/>\n      </defs>\n      <g>\n       <use style=\"stroke:#000000;stroke-width:0.8;\" x=\"51.058125\" xlink:href=\"#m3ffce50208\" y=\"337.159219\"/>\n      </g>\n     </g>\n     <g id=\"text_1\">\n      <!-- id -->\n      <defs>\n       <path d=\"M 9.421875 54.6875 \nL 18.40625 54.6875 \nL 18.40625 0 \nL 9.421875 0 \nz\nM 9.421875 75.984375 \nL 18.40625 75.984375 \nL 18.40625 64.59375 \nL 9.421875 64.59375 \nz\n\" id=\"DejaVuSans-105\"/>\n       <path d=\"M 45.40625 46.390625 \nL 45.40625 75.984375 \nL 54.390625 75.984375 \nL 54.390625 0 \nL 45.40625 0 \nL 45.40625 8.203125 \nQ 42.578125 3.328125 38.25 0.953125 \nQ 33.9375 -1.421875 27.875 -1.421875 \nQ 17.96875 -1.421875 11.734375 6.484375 \nQ 5.515625 14.40625 5.515625 27.296875 \nQ 5.515625 40.1875 11.734375 48.09375 \nQ 17.96875 56 27.875 56 \nQ 33.9375 56 38.25 53.625 \nQ 42.578125 51.265625 45.40625 46.390625 \nz\nM 14.796875 27.296875 \nQ 14.796875 17.390625 18.875 11.75 \nQ 22.953125 6.109375 30.078125 6.109375 \nQ 37.203125 6.109375 41.296875 11.75 \nQ 45.40625 17.390625 45.40625 27.296875 \nQ 45.40625 37.203125 41.296875 42.84375 \nQ 37.203125 48.484375 30.078125 48.484375 \nQ 22.953125 48.484375 18.875 42.84375 \nQ 14.796875 37.203125 14.796875 27.296875 \nz\n\" id=\"DejaVuSans-100\"/>\n      </defs>\n      <g transform=\"translate(46.494844 351.757656)scale(0.1 -0.1)\">\n       <use xlink:href=\"#DejaVuSans-105\"/>\n       <use x=\"27.783203\" xlink:href=\"#DejaVuSans-100\"/>\n      </g>\n     </g>\n    </g>\n    <g id=\"xtick_2\">\n     <g id=\"line2d_2\">\n      <g>\n       <use style=\"stroke:#000000;stroke-width:0.8;\" x=\"105.418125\" xlink:href=\"#m3ffce50208\" y=\"337.159219\"/>\n      </g>\n     </g>\n     <g id=\"text_2\">\n      <!-- mass -->\n      <defs>\n       <path d=\"M 52 44.1875 \nQ 55.375 50.25 60.0625 53.125 \nQ 64.75 56 71.09375 56 \nQ 79.640625 56 84.28125 50.015625 \nQ 88.921875 44.046875 88.921875 33.015625 \nL 88.921875 0 \nL 79.890625 0 \nL 79.890625 32.71875 \nQ 79.890625 40.578125 77.09375 44.375 \nQ 74.3125 48.1875 68.609375 48.1875 \nQ 61.625 48.1875 57.5625 43.546875 \nQ 53.515625 38.921875 53.515625 30.90625 \nL 53.515625 0 \nL 44.484375 0 \nL 44.484375 32.71875 \nQ 44.484375 40.625 41.703125 44.40625 \nQ 38.921875 48.1875 33.109375 48.1875 \nQ 26.21875 48.1875 22.15625 43.53125 \nQ 18.109375 38.875 18.109375 30.90625 \nL 18.109375 0 \nL 9.078125 0 \nL 9.078125 54.6875 \nL 18.109375 54.6875 \nL 18.109375 46.1875 \nQ 21.1875 51.21875 25.484375 53.609375 \nQ 29.78125 56 35.6875 56 \nQ 41.65625 56 45.828125 52.96875 \nQ 50 49.953125 52 44.1875 \nz\n\" id=\"DejaVuSans-109\"/>\n       <path d=\"M 34.28125 27.484375 \nQ 23.390625 27.484375 19.1875 25 \nQ 14.984375 22.515625 14.984375 16.5 \nQ 14.984375 11.71875 18.140625 8.90625 \nQ 21.296875 6.109375 26.703125 6.109375 \nQ 34.1875 6.109375 38.703125 11.40625 \nQ 43.21875 16.703125 43.21875 25.484375 \nL 43.21875 27.484375 \nz\nM 52.203125 31.203125 \nL 52.203125 0 \nL 43.21875 0 \nL 43.21875 8.296875 \nQ 40.140625 3.328125 35.546875 0.953125 \nQ 30.953125 -1.421875 24.3125 -1.421875 \nQ 15.921875 -1.421875 10.953125 3.296875 \nQ 6 8.015625 6 15.921875 \nQ 6 25.140625 12.171875 29.828125 \nQ 18.359375 34.515625 30.609375 34.515625 \nL 43.21875 34.515625 \nL 43.21875 35.40625 \nQ 43.21875 41.609375 39.140625 45 \nQ 35.0625 48.390625 27.6875 48.390625 \nQ 23 48.390625 18.546875 47.265625 \nQ 14.109375 46.140625 10.015625 43.890625 \nL 10.015625 52.203125 \nQ 14.9375 54.109375 19.578125 55.046875 \nQ 24.21875 56 28.609375 56 \nQ 40.484375 56 46.34375 49.84375 \nQ 52.203125 43.703125 52.203125 31.203125 \nz\n\" id=\"DejaVuSans-97\"/>\n       <path d=\"M 44.28125 53.078125 \nL 44.28125 44.578125 \nQ 40.484375 46.53125 36.375 47.5 \nQ 32.28125 48.484375 27.875 48.484375 \nQ 21.1875 48.484375 17.84375 46.4375 \nQ 14.5 44.390625 14.5 40.28125 \nQ 14.5 37.15625 16.890625 35.375 \nQ 19.28125 33.59375 26.515625 31.984375 \nL 29.59375 31.296875 \nQ 39.15625 29.25 43.1875 25.515625 \nQ 47.21875 21.78125 47.21875 15.09375 \nQ 47.21875 7.46875 41.1875 3.015625 \nQ 35.15625 -1.421875 24.609375 -1.421875 \nQ 20.21875 -1.421875 15.453125 -0.5625 \nQ 10.6875 0.296875 5.421875 2 \nL 5.421875 11.28125 \nQ 10.40625 8.6875 15.234375 7.390625 \nQ 20.0625 6.109375 24.8125 6.109375 \nQ 31.15625 6.109375 34.5625 8.28125 \nQ 37.984375 10.453125 37.984375 14.40625 \nQ 37.984375 18.0625 35.515625 20.015625 \nQ 33.0625 21.96875 24.703125 23.78125 \nL 21.578125 24.515625 \nQ 13.234375 26.265625 9.515625 29.90625 \nQ 5.8125 33.546875 5.8125 39.890625 \nQ 5.8125 47.609375 11.28125 51.796875 \nQ 16.75 56 26.8125 56 \nQ 31.78125 56 36.171875 55.265625 \nQ 40.578125 54.546875 44.28125 53.078125 \nz\n\" id=\"DejaVuSans-115\"/>\n      </defs>\n      <g transform=\"translate(92.274375 351.757656)scale(0.1 -0.1)\">\n       <use xlink:href=\"#DejaVuSans-109\"/>\n       <use x=\"97.412109\" xlink:href=\"#DejaVuSans-97\"/>\n       <use x=\"158.691406\" xlink:href=\"#DejaVuSans-115\"/>\n       <use x=\"210.791016\" xlink:href=\"#DejaVuSans-115\"/>\n      </g>\n     </g>\n    </g>\n    <g id=\"xtick_3\">\n     <g id=\"line2d_3\">\n      <g>\n       <use style=\"stroke:#000000;stroke-width:0.8;\" x=\"159.778125\" xlink:href=\"#m3ffce50208\" y=\"337.159219\"/>\n      </g>\n     </g>\n     <g id=\"text_3\">\n      <!-- year -->\n      <defs>\n       <path d=\"M 32.171875 -5.078125 \nQ 28.375 -14.84375 24.75 -17.8125 \nQ 21.140625 -20.796875 15.09375 -20.796875 \nL 7.90625 -20.796875 \nL 7.90625 -13.28125 \nL 13.1875 -13.28125 \nQ 16.890625 -13.28125 18.9375 -11.515625 \nQ 21 -9.765625 23.484375 -3.21875 \nL 25.09375 0.875 \nL 2.984375 54.6875 \nL 12.5 54.6875 \nL 29.59375 11.921875 \nL 46.6875 54.6875 \nL 56.203125 54.6875 \nz\n\" id=\"DejaVuSans-121\"/>\n       <path d=\"M 56.203125 29.59375 \nL 56.203125 25.203125 \nL 14.890625 25.203125 \nQ 15.484375 15.921875 20.484375 11.0625 \nQ 25.484375 6.203125 34.421875 6.203125 \nQ 39.59375 6.203125 44.453125 7.46875 \nQ 49.3125 8.734375 54.109375 11.28125 \nL 54.109375 2.78125 \nQ 49.265625 0.734375 44.1875 -0.34375 \nQ 39.109375 -1.421875 33.890625 -1.421875 \nQ 20.796875 -1.421875 13.15625 6.1875 \nQ 5.515625 13.8125 5.515625 26.8125 \nQ 5.515625 40.234375 12.765625 48.109375 \nQ 20.015625 56 32.328125 56 \nQ 43.359375 56 49.78125 48.890625 \nQ 56.203125 41.796875 56.203125 29.59375 \nz\nM 47.21875 32.234375 \nQ 47.125 39.59375 43.09375 43.984375 \nQ 39.0625 48.390625 32.421875 48.390625 \nQ 24.90625 48.390625 20.390625 44.140625 \nQ 15.875 39.890625 15.1875 32.171875 \nz\n\" id=\"DejaVuSans-101\"/>\n       <path d=\"M 41.109375 46.296875 \nQ 39.59375 47.171875 37.8125 47.578125 \nQ 36.03125 48 33.890625 48 \nQ 26.265625 48 22.1875 43.046875 \nQ 18.109375 38.09375 18.109375 28.8125 \nL 18.109375 0 \nL 9.078125 0 \nL 9.078125 54.6875 \nL 18.109375 54.6875 \nL 18.109375 46.1875 \nQ 20.953125 51.171875 25.484375 53.578125 \nQ 30.03125 56 36.53125 56 \nQ 37.453125 56 38.578125 55.875 \nQ 39.703125 55.765625 41.0625 55.515625 \nz\n\" id=\"DejaVuSans-114\"/>\n      </defs>\n      <g transform=\"translate(148.622656 351.757656)scale(0.1 -0.1)\">\n       <use xlink:href=\"#DejaVuSans-121\"/>\n       <use x=\"59.179688\" xlink:href=\"#DejaVuSans-101\"/>\n       <use x=\"120.703125\" xlink:href=\"#DejaVuSans-97\"/>\n       <use x=\"181.982422\" xlink:href=\"#DejaVuSans-114\"/>\n      </g>\n     </g>\n    </g>\n    <g id=\"xtick_4\">\n     <g id=\"line2d_4\">\n      <g>\n       <use style=\"stroke:#000000;stroke-width:0.8;\" x=\"214.138125\" xlink:href=\"#m3ffce50208\" y=\"337.159219\"/>\n      </g>\n     </g>\n     <g id=\"text_4\">\n      <!-- lat -->\n      <defs>\n       <path d=\"M 9.421875 75.984375 \nL 18.40625 75.984375 \nL 18.40625 0 \nL 9.421875 0 \nz\n\" id=\"DejaVuSans-108\"/>\n       <path d=\"M 18.3125 70.21875 \nL 18.3125 54.6875 \nL 36.8125 54.6875 \nL 36.8125 47.703125 \nL 18.3125 47.703125 \nL 18.3125 18.015625 \nQ 18.3125 11.328125 20.140625 9.421875 \nQ 21.96875 7.515625 27.59375 7.515625 \nL 36.8125 7.515625 \nL 36.8125 0 \nL 27.59375 0 \nQ 17.1875 0 13.234375 3.875 \nQ 9.28125 7.765625 9.28125 18.015625 \nL 9.28125 47.703125 \nL 2.6875 47.703125 \nL 2.6875 54.6875 \nL 9.28125 54.6875 \nL 9.28125 70.21875 \nz\n\" id=\"DejaVuSans-116\"/>\n      </defs>\n      <g transform=\"translate(207.724844 351.757656)scale(0.1 -0.1)\">\n       <use xlink:href=\"#DejaVuSans-108\"/>\n       <use x=\"27.783203\" xlink:href=\"#DejaVuSans-97\"/>\n       <use x=\"89.0625\" xlink:href=\"#DejaVuSans-116\"/>\n      </g>\n     </g>\n    </g>\n    <g id=\"xtick_5\">\n     <g id=\"line2d_5\">\n      <g>\n       <use style=\"stroke:#000000;stroke-width:0.8;\" x=\"268.498125\" xlink:href=\"#m3ffce50208\" y=\"337.159219\"/>\n      </g>\n     </g>\n     <g id=\"text_5\">\n      <!-- long -->\n      <defs>\n       <path d=\"M 30.609375 48.390625 \nQ 23.390625 48.390625 19.1875 42.75 \nQ 14.984375 37.109375 14.984375 27.296875 \nQ 14.984375 17.484375 19.15625 11.84375 \nQ 23.34375 6.203125 30.609375 6.203125 \nQ 37.796875 6.203125 41.984375 11.859375 \nQ 46.1875 17.53125 46.1875 27.296875 \nQ 46.1875 37.015625 41.984375 42.703125 \nQ 37.796875 48.390625 30.609375 48.390625 \nz\nM 30.609375 56 \nQ 42.328125 56 49.015625 48.375 \nQ 55.71875 40.765625 55.71875 27.296875 \nQ 55.71875 13.875 49.015625 6.21875 \nQ 42.328125 -1.421875 30.609375 -1.421875 \nQ 18.84375 -1.421875 12.171875 6.21875 \nQ 5.515625 13.875 5.515625 27.296875 \nQ 5.515625 40.765625 12.171875 48.375 \nQ 18.84375 56 30.609375 56 \nz\n\" id=\"DejaVuSans-111\"/>\n       <path d=\"M 54.890625 33.015625 \nL 54.890625 0 \nL 45.90625 0 \nL 45.90625 32.71875 \nQ 45.90625 40.484375 42.875 44.328125 \nQ 39.84375 48.1875 33.796875 48.1875 \nQ 26.515625 48.1875 22.3125 43.546875 \nQ 18.109375 38.921875 18.109375 30.90625 \nL 18.109375 0 \nL 9.078125 0 \nL 9.078125 54.6875 \nL 18.109375 54.6875 \nL 18.109375 46.1875 \nQ 21.34375 51.125 25.703125 53.5625 \nQ 30.078125 56 35.796875 56 \nQ 45.21875 56 50.046875 50.171875 \nQ 54.890625 44.34375 54.890625 33.015625 \nz\n\" id=\"DejaVuSans-110\"/>\n       <path d=\"M 45.40625 27.984375 \nQ 45.40625 37.75 41.375 43.109375 \nQ 37.359375 48.484375 30.078125 48.484375 \nQ 22.859375 48.484375 18.828125 43.109375 \nQ 14.796875 37.75 14.796875 27.984375 \nQ 14.796875 18.265625 18.828125 12.890625 \nQ 22.859375 7.515625 30.078125 7.515625 \nQ 37.359375 7.515625 41.375 12.890625 \nQ 45.40625 18.265625 45.40625 27.984375 \nz\nM 54.390625 6.78125 \nQ 54.390625 -7.171875 48.1875 -13.984375 \nQ 42 -20.796875 29.203125 -20.796875 \nQ 24.46875 -20.796875 20.265625 -20.09375 \nQ 16.0625 -19.390625 12.109375 -17.921875 \nL 12.109375 -9.1875 \nQ 16.0625 -11.328125 19.921875 -12.34375 \nQ 23.78125 -13.375 27.78125 -13.375 \nQ 36.625 -13.375 41.015625 -8.765625 \nQ 45.40625 -4.15625 45.40625 5.171875 \nL 45.40625 9.625 \nQ 42.625 4.78125 38.28125 2.390625 \nQ 33.9375 0 27.875 0 \nQ 17.828125 0 11.671875 7.65625 \nQ 5.515625 15.328125 5.515625 27.984375 \nQ 5.515625 40.671875 11.671875 48.328125 \nQ 17.828125 56 27.875 56 \nQ 33.9375 56 38.28125 53.609375 \nQ 42.625 51.21875 45.40625 46.390625 \nL 45.40625 54.6875 \nL 54.390625 54.6875 \nz\n\" id=\"DejaVuSans-103\"/>\n      </defs>\n      <g transform=\"translate(257.706719 351.757656)scale(0.1 -0.1)\">\n       <use xlink:href=\"#DejaVuSans-108\"/>\n       <use x=\"27.783203\" xlink:href=\"#DejaVuSans-111\"/>\n       <use x=\"88.964844\" xlink:href=\"#DejaVuSans-110\"/>\n       <use x=\"152.34375\" xlink:href=\"#DejaVuSans-103\"/>\n      </g>\n     </g>\n    </g>\n    <g id=\"xtick_6\">\n     <g id=\"line2d_6\">\n      <g>\n       <use style=\"stroke:#000000;stroke-width:0.8;\" x=\"322.858125\" xlink:href=\"#m3ffce50208\" y=\"337.159219\"/>\n      </g>\n     </g>\n     <g id=\"text_6\">\n      <!-- Elevation -->\n      <defs>\n       <path d=\"M 9.8125 72.90625 \nL 55.90625 72.90625 \nL 55.90625 64.59375 \nL 19.671875 64.59375 \nL 19.671875 43.015625 \nL 54.390625 43.015625 \nL 54.390625 34.71875 \nL 19.671875 34.71875 \nL 19.671875 8.296875 \nL 56.78125 8.296875 \nL 56.78125 0 \nL 9.8125 0 \nz\n\" id=\"DejaVuSans-69\"/>\n       <path d=\"M 2.984375 54.6875 \nL 12.5 54.6875 \nL 29.59375 8.796875 \nL 46.6875 54.6875 \nL 56.203125 54.6875 \nL 35.6875 0 \nL 23.484375 0 \nz\n\" id=\"DejaVuSans-118\"/>\n      </defs>\n      <g transform=\"translate(299.632344 351.757656)scale(0.1 -0.1)\">\n       <use xlink:href=\"#DejaVuSans-69\"/>\n       <use x=\"63.183594\" xlink:href=\"#DejaVuSans-108\"/>\n       <use x=\"90.966797\" xlink:href=\"#DejaVuSans-101\"/>\n       <use x=\"152.490234\" xlink:href=\"#DejaVuSans-118\"/>\n       <use x=\"211.669922\" xlink:href=\"#DejaVuSans-97\"/>\n       <use x=\"272.949219\" xlink:href=\"#DejaVuSans-116\"/>\n       <use x=\"312.158203\" xlink:href=\"#DejaVuSans-105\"/>\n       <use x=\"339.941406\" xlink:href=\"#DejaVuSans-111\"/>\n       <use x=\"401.123047\" xlink:href=\"#DejaVuSans-110\"/>\n      </g>\n     </g>\n    </g>\n   </g>\n   <g id=\"matplotlib.axis_2\">\n    <g id=\"ytick_1\">\n     <g id=\"line2d_7\">\n      <defs>\n       <path d=\"M 0 0 \nL -3.5 0 \n\" id=\"mbcb25ec41a\" style=\"stroke:#000000;stroke-width:0.8;\"/>\n      </defs>\n      <g>\n       <use style=\"stroke:#000000;stroke-width:0.8;\" x=\"23.878125\" xlink:href=\"#mbcb25ec41a\" y=\"38.179219\"/>\n      </g>\n     </g>\n     <g id=\"text_7\">\n      <!-- id -->\n      <g transform=\"translate(14.798438 43.506563)rotate(-90)scale(0.1 -0.1)\">\n       <use xlink:href=\"#DejaVuSans-105\"/>\n       <use x=\"27.783203\" xlink:href=\"#DejaVuSans-100\"/>\n      </g>\n     </g>\n    </g>\n    <g id=\"ytick_2\">\n     <g id=\"line2d_8\">\n      <g>\n       <use style=\"stroke:#000000;stroke-width:0.8;\" x=\"23.878125\" xlink:href=\"#mbcb25ec41a\" y=\"92.539219\"/>\n      </g>\n     </g>\n     <g id=\"text_8\">\n      <!-- mass -->\n      <g transform=\"translate(14.798438 115.0275)rotate(-90)scale(0.1 -0.1)\">\n       <use xlink:href=\"#DejaVuSans-109\"/>\n       <use x=\"97.412109\" xlink:href=\"#DejaVuSans-97\"/>\n       <use x=\"158.691406\" xlink:href=\"#DejaVuSans-115\"/>\n       <use x=\"210.791016\" xlink:href=\"#DejaVuSans-115\"/>\n      </g>\n     </g>\n    </g>\n    <g id=\"ytick_3\">\n     <g id=\"line2d_9\">\n      <g>\n       <use style=\"stroke:#000000;stroke-width:0.8;\" x=\"23.878125\" xlink:href=\"#mbcb25ec41a\" y=\"146.899219\"/>\n      </g>\n     </g>\n     <g id=\"text_9\">\n      <!-- year -->\n      <g transform=\"translate(14.798438 165.410938)rotate(-90)scale(0.1 -0.1)\">\n       <use xlink:href=\"#DejaVuSans-121\"/>\n       <use x=\"59.179688\" xlink:href=\"#DejaVuSans-101\"/>\n       <use x=\"120.703125\" xlink:href=\"#DejaVuSans-97\"/>\n       <use x=\"181.982422\" xlink:href=\"#DejaVuSans-114\"/>\n      </g>\n     </g>\n    </g>\n    <g id=\"ytick_4\">\n     <g id=\"line2d_10\">\n      <g>\n       <use style=\"stroke:#000000;stroke-width:0.8;\" x=\"23.878125\" xlink:href=\"#mbcb25ec41a\" y=\"201.259219\"/>\n      </g>\n     </g>\n     <g id=\"text_10\">\n      <!-- lat -->\n      <g transform=\"translate(14.798438 210.286563)rotate(-90)scale(0.1 -0.1)\">\n       <use xlink:href=\"#DejaVuSans-108\"/>\n       <use x=\"27.783203\" xlink:href=\"#DejaVuSans-97\"/>\n       <use x=\"89.0625\" xlink:href=\"#DejaVuSans-116\"/>\n      </g>\n     </g>\n    </g>\n    <g id=\"ytick_5\">\n     <g id=\"line2d_11\">\n      <g>\n       <use style=\"stroke:#000000;stroke-width:0.8;\" x=\"23.878125\" xlink:href=\"#mbcb25ec41a\" y=\"255.619219\"/>\n      </g>\n     </g>\n     <g id=\"text_11\">\n      <!-- long -->\n      <g transform=\"translate(14.798438 273.402812)rotate(-90)scale(0.1 -0.1)\">\n       <use xlink:href=\"#DejaVuSans-108\"/>\n       <use x=\"27.783203\" xlink:href=\"#DejaVuSans-111\"/>\n       <use x=\"88.964844\" xlink:href=\"#DejaVuSans-110\"/>\n       <use x=\"152.34375\" xlink:href=\"#DejaVuSans-103\"/>\n      </g>\n     </g>\n    </g>\n    <g id=\"ytick_6\">\n     <g id=\"line2d_12\">\n      <g>\n       <use style=\"stroke:#000000;stroke-width:0.8;\" x=\"23.878125\" xlink:href=\"#mbcb25ec41a\" y=\"309.979219\"/>\n      </g>\n     </g>\n     <g id=\"text_12\">\n      <!-- Elevation -->\n      <g transform=\"translate(14.798438 352.631563)rotate(-90)scale(0.1 -0.1)\">\n       <use xlink:href=\"#DejaVuSans-69\"/>\n       <use x=\"63.183594\" xlink:href=\"#DejaVuSans-108\"/>\n       <use x=\"90.966797\" xlink:href=\"#DejaVuSans-101\"/>\n       <use x=\"152.490234\" xlink:href=\"#DejaVuSans-118\"/>\n       <use x=\"211.669922\" xlink:href=\"#DejaVuSans-97\"/>\n       <use x=\"272.949219\" xlink:href=\"#DejaVuSans-116\"/>\n       <use x=\"312.158203\" xlink:href=\"#DejaVuSans-105\"/>\n       <use x=\"339.941406\" xlink:href=\"#DejaVuSans-111\"/>\n       <use x=\"401.123047\" xlink:href=\"#DejaVuSans-110\"/>\n      </g>\n     </g>\n    </g>\n   </g>\n   <g id=\"text_13\">\n    <!-- 1 -->\n    <defs>\n     <path d=\"M 12.40625 8.296875 \nL 28.515625 8.296875 \nL 28.515625 63.921875 \nL 10.984375 60.40625 \nL 10.984375 69.390625 \nL 28.421875 72.90625 \nL 38.28125 72.90625 \nL 38.28125 8.296875 \nL 54.390625 8.296875 \nL 54.390625 0 \nL 12.40625 0 \nz\n\" id=\"DejaVuSans-49\"/>\n    </defs>\n    <g style=\"fill:#262626;\" transform=\"translate(47.876875 40.938594)scale(0.1 -0.1)\">\n     <use xlink:href=\"#DejaVuSans-49\"/>\n    </g>\n   </g>\n   <g id=\"text_14\">\n    <!-- -0.0097 -->\n    <defs>\n     <path d=\"M 4.890625 31.390625 \nL 31.203125 31.390625 \nL 31.203125 23.390625 \nL 4.890625 23.390625 \nz\n\" id=\"DejaVuSans-45\"/>\n     <path d=\"M 31.78125 66.40625 \nQ 24.171875 66.40625 20.328125 58.90625 \nQ 16.5 51.421875 16.5 36.375 \nQ 16.5 21.390625 20.328125 13.890625 \nQ 24.171875 6.390625 31.78125 6.390625 \nQ 39.453125 6.390625 43.28125 13.890625 \nQ 47.125 21.390625 47.125 36.375 \nQ 47.125 51.421875 43.28125 58.90625 \nQ 39.453125 66.40625 31.78125 66.40625 \nz\nM 31.78125 74.21875 \nQ 44.046875 74.21875 50.515625 64.515625 \nQ 56.984375 54.828125 56.984375 36.375 \nQ 56.984375 17.96875 50.515625 8.265625 \nQ 44.046875 -1.421875 31.78125 -1.421875 \nQ 19.53125 -1.421875 13.0625 8.265625 \nQ 6.59375 17.96875 6.59375 36.375 \nQ 6.59375 54.828125 13.0625 64.515625 \nQ 19.53125 74.21875 31.78125 74.21875 \nz\n\" id=\"DejaVuSans-48\"/>\n     <path d=\"M 10.6875 12.40625 \nL 21 12.40625 \nL 21 0 \nL 10.6875 0 \nz\n\" id=\"DejaVuSans-46\"/>\n     <path d=\"M 10.984375 1.515625 \nL 10.984375 10.5 \nQ 14.703125 8.734375 18.5 7.8125 \nQ 22.3125 6.890625 25.984375 6.890625 \nQ 35.75 6.890625 40.890625 13.453125 \nQ 46.046875 20.015625 46.78125 33.40625 \nQ 43.953125 29.203125 39.59375 26.953125 \nQ 35.25 24.703125 29.984375 24.703125 \nQ 19.046875 24.703125 12.671875 31.3125 \nQ 6.296875 37.9375 6.296875 49.421875 \nQ 6.296875 60.640625 12.9375 67.421875 \nQ 19.578125 74.21875 30.609375 74.21875 \nQ 43.265625 74.21875 49.921875 64.515625 \nQ 56.59375 54.828125 56.59375 36.375 \nQ 56.59375 19.140625 48.40625 8.859375 \nQ 40.234375 -1.421875 26.421875 -1.421875 \nQ 22.703125 -1.421875 18.890625 -0.6875 \nQ 15.09375 0.046875 10.984375 1.515625 \nz\nM 30.609375 32.421875 \nQ 37.25 32.421875 41.125 36.953125 \nQ 45.015625 41.5 45.015625 49.421875 \nQ 45.015625 57.28125 41.125 61.84375 \nQ 37.25 66.40625 30.609375 66.40625 \nQ 23.96875 66.40625 20.09375 61.84375 \nQ 16.21875 57.28125 16.21875 49.421875 \nQ 16.21875 41.5 20.09375 36.953125 \nQ 23.96875 32.421875 30.609375 32.421875 \nz\n\" id=\"DejaVuSans-57\"/>\n     <path d=\"M 8.203125 72.90625 \nL 55.078125 72.90625 \nL 55.078125 68.703125 \nL 28.609375 0 \nL 18.3125 0 \nL 43.21875 64.59375 \nL 8.203125 64.59375 \nz\n\" id=\"DejaVuSans-55\"/>\n    </defs>\n    <g style=\"fill:#ffffff;\" transform=\"translate(86.118906 40.938594)scale(0.1 -0.1)\">\n     <use xlink:href=\"#DejaVuSans-45\"/>\n     <use x=\"36.083984\" xlink:href=\"#DejaVuSans-48\"/>\n     <use x=\"99.707031\" xlink:href=\"#DejaVuSans-46\"/>\n     <use x=\"131.494141\" xlink:href=\"#DejaVuSans-48\"/>\n     <use x=\"195.117188\" xlink:href=\"#DejaVuSans-48\"/>\n     <use x=\"258.740234\" xlink:href=\"#DejaVuSans-57\"/>\n     <use x=\"322.363281\" xlink:href=\"#DejaVuSans-55\"/>\n    </g>\n   </g>\n   <g id=\"text_15\">\n    <!-- 0.44 -->\n    <defs>\n     <path d=\"M 37.796875 64.3125 \nL 12.890625 25.390625 \nL 37.796875 25.390625 \nz\nM 35.203125 72.90625 \nL 47.609375 72.90625 \nL 47.609375 25.390625 \nL 58.015625 25.390625 \nL 58.015625 17.1875 \nL 47.609375 17.1875 \nL 47.609375 0 \nL 37.796875 0 \nL 37.796875 17.1875 \nL 4.890625 17.1875 \nL 4.890625 26.703125 \nz\n\" id=\"DejaVuSans-52\"/>\n    </defs>\n    <g style=\"fill:#ffffff;\" transform=\"translate(148.645312 40.938594)scale(0.1 -0.1)\">\n     <use xlink:href=\"#DejaVuSans-48\"/>\n     <use x=\"63.623047\" xlink:href=\"#DejaVuSans-46\"/>\n     <use x=\"95.410156\" xlink:href=\"#DejaVuSans-52\"/>\n     <use x=\"159.033203\" xlink:href=\"#DejaVuSans-52\"/>\n    </g>\n   </g>\n   <g id=\"text_16\">\n    <!-- 0.4 -->\n    <g style=\"fill:#ffffff;\" transform=\"translate(206.186562 40.938594)scale(0.1 -0.1)\">\n     <use xlink:href=\"#DejaVuSans-48\"/>\n     <use x=\"63.623047\" xlink:href=\"#DejaVuSans-46\"/>\n     <use x=\"95.410156\" xlink:href=\"#DejaVuSans-52\"/>\n    </g>\n   </g>\n   <g id=\"text_17\">\n    <!-- -0.24 -->\n    <defs>\n     <path d=\"M 19.1875 8.296875 \nL 53.609375 8.296875 \nL 53.609375 0 \nL 7.328125 0 \nL 7.328125 8.296875 \nQ 12.9375 14.109375 22.625 23.890625 \nQ 32.328125 33.6875 34.8125 36.53125 \nQ 39.546875 41.84375 41.421875 45.53125 \nQ 43.3125 49.21875 43.3125 52.78125 \nQ 43.3125 58.59375 39.234375 62.25 \nQ 35.15625 65.921875 28.609375 65.921875 \nQ 23.96875 65.921875 18.8125 64.3125 \nQ 13.671875 62.703125 7.8125 59.421875 \nL 7.8125 69.390625 \nQ 13.765625 71.78125 18.9375 73 \nQ 24.125 74.21875 28.421875 74.21875 \nQ 39.75 74.21875 46.484375 68.546875 \nQ 53.21875 62.890625 53.21875 53.421875 \nQ 53.21875 48.921875 51.53125 44.890625 \nQ 49.859375 40.875 45.40625 35.40625 \nQ 44.1875 33.984375 37.640625 27.21875 \nQ 31.109375 20.453125 19.1875 8.296875 \nz\n\" id=\"DejaVuSans-50\"/>\n    </defs>\n    <g style=\"fill:#ffffff;\" transform=\"translate(255.561406 40.938594)scale(0.1 -0.1)\">\n     <use xlink:href=\"#DejaVuSans-45\"/>\n     <use x=\"36.083984\" xlink:href=\"#DejaVuSans-48\"/>\n     <use x=\"99.707031\" xlink:href=\"#DejaVuSans-46\"/>\n     <use x=\"131.494141\" xlink:href=\"#DejaVuSans-50\"/>\n     <use x=\"195.117188\" xlink:href=\"#DejaVuSans-52\"/>\n    </g>\n   </g>\n   <g id=\"text_18\">\n    <!-- 0.15 -->\n    <defs>\n     <path d=\"M 10.796875 72.90625 \nL 49.515625 72.90625 \nL 49.515625 64.59375 \nL 19.828125 64.59375 \nL 19.828125 46.734375 \nQ 21.96875 47.46875 24.109375 47.828125 \nQ 26.265625 48.1875 28.421875 48.1875 \nQ 40.625 48.1875 47.75 41.5 \nQ 54.890625 34.8125 54.890625 23.390625 \nQ 54.890625 11.625 47.5625 5.09375 \nQ 40.234375 -1.421875 26.90625 -1.421875 \nQ 22.3125 -1.421875 17.546875 -0.640625 \nQ 12.796875 0.140625 7.71875 1.703125 \nL 7.71875 11.625 \nQ 12.109375 9.234375 16.796875 8.0625 \nQ 21.484375 6.890625 26.703125 6.890625 \nQ 35.15625 6.890625 40.078125 11.328125 \nQ 45.015625 15.765625 45.015625 23.390625 \nQ 45.015625 31 40.078125 35.4375 \nQ 35.15625 39.890625 26.703125 39.890625 \nQ 22.75 39.890625 18.8125 39.015625 \nQ 14.890625 38.140625 10.796875 36.28125 \nz\n\" id=\"DejaVuSans-53\"/>\n    </defs>\n    <g style=\"fill:#ffffff;\" transform=\"translate(311.725312 40.938594)scale(0.1 -0.1)\">\n     <use xlink:href=\"#DejaVuSans-48\"/>\n     <use x=\"63.623047\" xlink:href=\"#DejaVuSans-46\"/>\n     <use x=\"95.410156\" xlink:href=\"#DejaVuSans-49\"/>\n     <use x=\"159.033203\" xlink:href=\"#DejaVuSans-53\"/>\n    </g>\n   </g>\n   <g id=\"text_19\">\n    <!-- -0.0097 -->\n    <g style=\"fill:#ffffff;\" transform=\"translate(31.758906 95.298594)scale(0.1 -0.1)\">\n     <use xlink:href=\"#DejaVuSans-45\"/>\n     <use x=\"36.083984\" xlink:href=\"#DejaVuSans-48\"/>\n     <use x=\"99.707031\" xlink:href=\"#DejaVuSans-46\"/>\n     <use x=\"131.494141\" xlink:href=\"#DejaVuSans-48\"/>\n     <use x=\"195.117188\" xlink:href=\"#DejaVuSans-48\"/>\n     <use x=\"258.740234\" xlink:href=\"#DejaVuSans-57\"/>\n     <use x=\"322.363281\" xlink:href=\"#DejaVuSans-55\"/>\n    </g>\n   </g>\n   <g id=\"text_20\">\n    <!-- 1 -->\n    <g style=\"fill:#262626;\" transform=\"translate(102.236875 95.298594)scale(0.1 -0.1)\">\n     <use xlink:href=\"#DejaVuSans-49\"/>\n    </g>\n   </g>\n   <g id=\"text_21\">\n    <!-- -0.096 -->\n    <defs>\n     <path d=\"M 33.015625 40.375 \nQ 26.375 40.375 22.484375 35.828125 \nQ 18.609375 31.296875 18.609375 23.390625 \nQ 18.609375 15.53125 22.484375 10.953125 \nQ 26.375 6.390625 33.015625 6.390625 \nQ 39.65625 6.390625 43.53125 10.953125 \nQ 47.40625 15.53125 47.40625 23.390625 \nQ 47.40625 31.296875 43.53125 35.828125 \nQ 39.65625 40.375 33.015625 40.375 \nz\nM 52.59375 71.296875 \nL 52.59375 62.3125 \nQ 48.875 64.0625 45.09375 64.984375 \nQ 41.3125 65.921875 37.59375 65.921875 \nQ 27.828125 65.921875 22.671875 59.328125 \nQ 17.53125 52.734375 16.796875 39.40625 \nQ 19.671875 43.65625 24.015625 45.921875 \nQ 28.375 48.1875 33.59375 48.1875 \nQ 44.578125 48.1875 50.953125 41.515625 \nQ 57.328125 34.859375 57.328125 23.390625 \nQ 57.328125 12.15625 50.6875 5.359375 \nQ 44.046875 -1.421875 33.015625 -1.421875 \nQ 20.359375 -1.421875 13.671875 8.265625 \nQ 6.984375 17.96875 6.984375 36.375 \nQ 6.984375 53.65625 15.1875 63.9375 \nQ 23.390625 74.21875 37.203125 74.21875 \nQ 40.921875 74.21875 44.703125 73.484375 \nQ 48.484375 72.75 52.59375 71.296875 \nz\n\" id=\"DejaVuSans-54\"/>\n    </defs>\n    <g style=\"fill:#ffffff;\" transform=\"translate(143.660156 95.298594)scale(0.1 -0.1)\">\n     <use xlink:href=\"#DejaVuSans-45\"/>\n     <use x=\"36.083984\" xlink:href=\"#DejaVuSans-48\"/>\n     <use x=\"99.707031\" xlink:href=\"#DejaVuSans-46\"/>\n     <use x=\"131.494141\" xlink:href=\"#DejaVuSans-48\"/>\n     <use x=\"195.117188\" xlink:href=\"#DejaVuSans-57\"/>\n     <use x=\"258.740234\" xlink:href=\"#DejaVuSans-54\"/>\n    </g>\n   </g>\n   <g id=\"text_22\">\n    <!-- 0.015 -->\n    <g style=\"fill:#ffffff;\" transform=\"translate(199.824062 95.298594)scale(0.1 -0.1)\">\n     <use xlink:href=\"#DejaVuSans-48\"/>\n     <use x=\"63.623047\" xlink:href=\"#DejaVuSans-46\"/>\n     <use x=\"95.410156\" xlink:href=\"#DejaVuSans-48\"/>\n     <use x=\"159.033203\" xlink:href=\"#DejaVuSans-49\"/>\n     <use x=\"222.65625\" xlink:href=\"#DejaVuSans-53\"/>\n    </g>\n   </g>\n   <g id=\"text_23\">\n    <!-- -0.016 -->\n    <g style=\"fill:#ffffff;\" transform=\"translate(252.380156 95.298594)scale(0.1 -0.1)\">\n     <use xlink:href=\"#DejaVuSans-45\"/>\n     <use x=\"36.083984\" xlink:href=\"#DejaVuSans-48\"/>\n     <use x=\"99.707031\" xlink:href=\"#DejaVuSans-46\"/>\n     <use x=\"131.494141\" xlink:href=\"#DejaVuSans-48\"/>\n     <use x=\"195.117188\" xlink:href=\"#DejaVuSans-49\"/>\n     <use x=\"258.740234\" xlink:href=\"#DejaVuSans-54\"/>\n    </g>\n   </g>\n   <g id=\"text_24\">\n    <!-- -1.1e-26 -->\n    <g style=\"fill:#ffffff;\" transform=\"translate(301.859687 95.298594)scale(0.1 -0.1)\">\n     <use xlink:href=\"#DejaVuSans-45\"/>\n     <use x=\"36.083984\" xlink:href=\"#DejaVuSans-49\"/>\n     <use x=\"99.707031\" xlink:href=\"#DejaVuSans-46\"/>\n     <use x=\"131.494141\" xlink:href=\"#DejaVuSans-49\"/>\n     <use x=\"195.117188\" xlink:href=\"#DejaVuSans-101\"/>\n     <use x=\"256.640625\" xlink:href=\"#DejaVuSans-45\"/>\n     <use x=\"292.724609\" xlink:href=\"#DejaVuSans-50\"/>\n     <use x=\"356.347656\" xlink:href=\"#DejaVuSans-54\"/>\n    </g>\n   </g>\n   <g id=\"text_25\">\n    <!-- 0.44 -->\n    <g style=\"fill:#ffffff;\" transform=\"translate(39.925313 149.658594)scale(0.1 -0.1)\">\n     <use xlink:href=\"#DejaVuSans-48\"/>\n     <use x=\"63.623047\" xlink:href=\"#DejaVuSans-46\"/>\n     <use x=\"95.410156\" xlink:href=\"#DejaVuSans-52\"/>\n     <use x=\"159.033203\" xlink:href=\"#DejaVuSans-52\"/>\n    </g>\n   </g>\n   <g id=\"text_26\">\n    <!-- -0.096 -->\n    <g style=\"fill:#ffffff;\" transform=\"translate(89.300156 149.658594)scale(0.1 -0.1)\">\n     <use xlink:href=\"#DejaVuSans-45\"/>\n     <use x=\"36.083984\" xlink:href=\"#DejaVuSans-48\"/>\n     <use x=\"99.707031\" xlink:href=\"#DejaVuSans-46\"/>\n     <use x=\"131.494141\" xlink:href=\"#DejaVuSans-48\"/>\n     <use x=\"195.117188\" xlink:href=\"#DejaVuSans-57\"/>\n     <use x=\"258.740234\" xlink:href=\"#DejaVuSans-54\"/>\n    </g>\n   </g>\n   <g id=\"text_27\">\n    <!-- 1 -->\n    <g style=\"fill:#262626;\" transform=\"translate(156.596875 149.658594)scale(0.1 -0.1)\">\n     <use xlink:href=\"#DejaVuSans-49\"/>\n    </g>\n   </g>\n   <g id=\"text_28\">\n    <!-- 0.23 -->\n    <defs>\n     <path d=\"M 40.578125 39.3125 \nQ 47.65625 37.796875 51.625 33 \nQ 55.609375 28.21875 55.609375 21.1875 \nQ 55.609375 10.40625 48.1875 4.484375 \nQ 40.765625 -1.421875 27.09375 -1.421875 \nQ 22.515625 -1.421875 17.65625 -0.515625 \nQ 12.796875 0.390625 7.625 2.203125 \nL 7.625 11.71875 \nQ 11.71875 9.328125 16.59375 8.109375 \nQ 21.484375 6.890625 26.8125 6.890625 \nQ 36.078125 6.890625 40.9375 10.546875 \nQ 45.796875 14.203125 45.796875 21.1875 \nQ 45.796875 27.640625 41.28125 31.265625 \nQ 36.765625 34.90625 28.71875 34.90625 \nL 20.21875 34.90625 \nL 20.21875 43.015625 \nL 29.109375 43.015625 \nQ 36.375 43.015625 40.234375 45.921875 \nQ 44.09375 48.828125 44.09375 54.296875 \nQ 44.09375 59.90625 40.109375 62.90625 \nQ 36.140625 65.921875 28.71875 65.921875 \nQ 24.65625 65.921875 20.015625 65.03125 \nQ 15.375 64.15625 9.8125 62.3125 \nL 9.8125 71.09375 \nQ 15.4375 72.65625 20.34375 73.4375 \nQ 25.25 74.21875 29.59375 74.21875 \nQ 40.828125 74.21875 47.359375 69.109375 \nQ 53.90625 64.015625 53.90625 55.328125 \nQ 53.90625 49.265625 50.4375 45.09375 \nQ 46.96875 40.921875 40.578125 39.3125 \nz\n\" id=\"DejaVuSans-51\"/>\n    </defs>\n    <g style=\"fill:#ffffff;\" transform=\"translate(203.005312 149.658594)scale(0.1 -0.1)\">\n     <use xlink:href=\"#DejaVuSans-48\"/>\n     <use x=\"63.623047\" xlink:href=\"#DejaVuSans-46\"/>\n     <use x=\"95.410156\" xlink:href=\"#DejaVuSans-50\"/>\n     <use x=\"159.033203\" xlink:href=\"#DejaVuSans-51\"/>\n    </g>\n   </g>\n   <g id=\"text_29\">\n    <!-- -0.06 -->\n    <g style=\"fill:#ffffff;\" transform=\"translate(255.561406 149.658594)scale(0.1 -0.1)\">\n     <use xlink:href=\"#DejaVuSans-45\"/>\n     <use x=\"36.083984\" xlink:href=\"#DejaVuSans-48\"/>\n     <use x=\"99.707031\" xlink:href=\"#DejaVuSans-46\"/>\n     <use x=\"131.494141\" xlink:href=\"#DejaVuSans-48\"/>\n     <use x=\"195.117188\" xlink:href=\"#DejaVuSans-54\"/>\n    </g>\n   </g>\n   <g id=\"text_30\">\n    <!-- 0.052 -->\n    <g style=\"fill:#ffffff;\" transform=\"translate(308.544062 149.658594)scale(0.1 -0.1)\">\n     <use xlink:href=\"#DejaVuSans-48\"/>\n     <use x=\"63.623047\" xlink:href=\"#DejaVuSans-46\"/>\n     <use x=\"95.410156\" xlink:href=\"#DejaVuSans-48\"/>\n     <use x=\"159.033203\" xlink:href=\"#DejaVuSans-53\"/>\n     <use x=\"222.65625\" xlink:href=\"#DejaVuSans-50\"/>\n    </g>\n   </g>\n   <g id=\"text_31\">\n    <!-- 0.4 -->\n    <g style=\"fill:#ffffff;\" transform=\"translate(43.106563 204.018594)scale(0.1 -0.1)\">\n     <use xlink:href=\"#DejaVuSans-48\"/>\n     <use x=\"63.623047\" xlink:href=\"#DejaVuSans-46\"/>\n     <use x=\"95.410156\" xlink:href=\"#DejaVuSans-52\"/>\n    </g>\n   </g>\n   <g id=\"text_32\">\n    <!-- 0.015 -->\n    <g style=\"fill:#ffffff;\" transform=\"translate(91.104062 204.018594)scale(0.1 -0.1)\">\n     <use xlink:href=\"#DejaVuSans-48\"/>\n     <use x=\"63.623047\" xlink:href=\"#DejaVuSans-46\"/>\n     <use x=\"95.410156\" xlink:href=\"#DejaVuSans-48\"/>\n     <use x=\"159.033203\" xlink:href=\"#DejaVuSans-49\"/>\n     <use x=\"222.65625\" xlink:href=\"#DejaVuSans-53\"/>\n    </g>\n   </g>\n   <g id=\"text_33\">\n    <!-- 0.23 -->\n    <g style=\"fill:#ffffff;\" transform=\"translate(148.645312 204.018594)scale(0.1 -0.1)\">\n     <use xlink:href=\"#DejaVuSans-48\"/>\n     <use x=\"63.623047\" xlink:href=\"#DejaVuSans-46\"/>\n     <use x=\"95.410156\" xlink:href=\"#DejaVuSans-50\"/>\n     <use x=\"159.033203\" xlink:href=\"#DejaVuSans-51\"/>\n    </g>\n   </g>\n   <g id=\"text_34\">\n    <!-- 1 -->\n    <g style=\"fill:#262626;\" transform=\"translate(210.956875 204.018594)scale(0.1 -0.1)\">\n     <use xlink:href=\"#DejaVuSans-49\"/>\n    </g>\n   </g>\n   <g id=\"text_35\">\n    <!-- -0.53 -->\n    <g style=\"fill:#ffffff;\" transform=\"translate(255.561406 204.018594)scale(0.1 -0.1)\">\n     <use xlink:href=\"#DejaVuSans-45\"/>\n     <use x=\"36.083984\" xlink:href=\"#DejaVuSans-48\"/>\n     <use x=\"99.707031\" xlink:href=\"#DejaVuSans-46\"/>\n     <use x=\"131.494141\" xlink:href=\"#DejaVuSans-53\"/>\n     <use x=\"195.117188\" xlink:href=\"#DejaVuSans-51\"/>\n    </g>\n   </g>\n   <g id=\"text_36\">\n    <!-- -0.023 -->\n    <g style=\"fill:#ffffff;\" transform=\"translate(306.740156 204.018594)scale(0.1 -0.1)\">\n     <use xlink:href=\"#DejaVuSans-45\"/>\n     <use x=\"36.083984\" xlink:href=\"#DejaVuSans-48\"/>\n     <use x=\"99.707031\" xlink:href=\"#DejaVuSans-46\"/>\n     <use x=\"131.494141\" xlink:href=\"#DejaVuSans-48\"/>\n     <use x=\"195.117188\" xlink:href=\"#DejaVuSans-50\"/>\n     <use x=\"258.740234\" xlink:href=\"#DejaVuSans-51\"/>\n    </g>\n   </g>\n   <g id=\"text_37\">\n    <!-- -0.24 -->\n    <g style=\"fill:#ffffff;\" transform=\"translate(38.121406 258.378594)scale(0.1 -0.1)\">\n     <use xlink:href=\"#DejaVuSans-45\"/>\n     <use x=\"36.083984\" xlink:href=\"#DejaVuSans-48\"/>\n     <use x=\"99.707031\" xlink:href=\"#DejaVuSans-46\"/>\n     <use x=\"131.494141\" xlink:href=\"#DejaVuSans-50\"/>\n     <use x=\"195.117188\" xlink:href=\"#DejaVuSans-52\"/>\n    </g>\n   </g>\n   <g id=\"text_38\">\n    <!-- -0.016 -->\n    <g style=\"fill:#ffffff;\" transform=\"translate(89.300156 258.378594)scale(0.1 -0.1)\">\n     <use xlink:href=\"#DejaVuSans-45\"/>\n     <use x=\"36.083984\" xlink:href=\"#DejaVuSans-48\"/>\n     <use x=\"99.707031\" xlink:href=\"#DejaVuSans-46\"/>\n     <use x=\"131.494141\" xlink:href=\"#DejaVuSans-48\"/>\n     <use x=\"195.117188\" xlink:href=\"#DejaVuSans-49\"/>\n     <use x=\"258.740234\" xlink:href=\"#DejaVuSans-54\"/>\n    </g>\n   </g>\n   <g id=\"text_39\">\n    <!-- -0.06 -->\n    <g style=\"fill:#ffffff;\" transform=\"translate(146.841406 258.378594)scale(0.1 -0.1)\">\n     <use xlink:href=\"#DejaVuSans-45\"/>\n     <use x=\"36.083984\" xlink:href=\"#DejaVuSans-48\"/>\n     <use x=\"99.707031\" xlink:href=\"#DejaVuSans-46\"/>\n     <use x=\"131.494141\" xlink:href=\"#DejaVuSans-48\"/>\n     <use x=\"195.117188\" xlink:href=\"#DejaVuSans-54\"/>\n    </g>\n   </g>\n   <g id=\"text_40\">\n    <!-- -0.53 -->\n    <g style=\"fill:#ffffff;\" transform=\"translate(201.201406 258.378594)scale(0.1 -0.1)\">\n     <use xlink:href=\"#DejaVuSans-45\"/>\n     <use x=\"36.083984\" xlink:href=\"#DejaVuSans-48\"/>\n     <use x=\"99.707031\" xlink:href=\"#DejaVuSans-46\"/>\n     <use x=\"131.494141\" xlink:href=\"#DejaVuSans-53\"/>\n     <use x=\"195.117188\" xlink:href=\"#DejaVuSans-51\"/>\n    </g>\n   </g>\n   <g id=\"text_41\">\n    <!-- 1 -->\n    <g style=\"fill:#262626;\" transform=\"translate(265.316875 258.378594)scale(0.1 -0.1)\">\n     <use xlink:href=\"#DejaVuSans-49\"/>\n    </g>\n   </g>\n   <g id=\"text_42\">\n    <!-- -0.14 -->\n    <g style=\"fill:#ffffff;\" transform=\"translate(309.921406 258.378594)scale(0.1 -0.1)\">\n     <use xlink:href=\"#DejaVuSans-45\"/>\n     <use x=\"36.083984\" xlink:href=\"#DejaVuSans-48\"/>\n     <use x=\"99.707031\" xlink:href=\"#DejaVuSans-46\"/>\n     <use x=\"131.494141\" xlink:href=\"#DejaVuSans-49\"/>\n     <use x=\"195.117188\" xlink:href=\"#DejaVuSans-52\"/>\n    </g>\n   </g>\n   <g id=\"text_43\">\n    <!-- 0.15 -->\n    <g style=\"fill:#ffffff;\" transform=\"translate(39.925313 312.738594)scale(0.1 -0.1)\">\n     <use xlink:href=\"#DejaVuSans-48\"/>\n     <use x=\"63.623047\" xlink:href=\"#DejaVuSans-46\"/>\n     <use x=\"95.410156\" xlink:href=\"#DejaVuSans-49\"/>\n     <use x=\"159.033203\" xlink:href=\"#DejaVuSans-53\"/>\n    </g>\n   </g>\n   <g id=\"text_44\">\n    <!-- -1.1e-26 -->\n    <g style=\"fill:#ffffff;\" transform=\"translate(84.419688 312.738594)scale(0.1 -0.1)\">\n     <use xlink:href=\"#DejaVuSans-45\"/>\n     <use x=\"36.083984\" xlink:href=\"#DejaVuSans-49\"/>\n     <use x=\"99.707031\" xlink:href=\"#DejaVuSans-46\"/>\n     <use x=\"131.494141\" xlink:href=\"#DejaVuSans-49\"/>\n     <use x=\"195.117188\" xlink:href=\"#DejaVuSans-101\"/>\n     <use x=\"256.640625\" xlink:href=\"#DejaVuSans-45\"/>\n     <use x=\"292.724609\" xlink:href=\"#DejaVuSans-50\"/>\n     <use x=\"356.347656\" xlink:href=\"#DejaVuSans-54\"/>\n    </g>\n   </g>\n   <g id=\"text_45\">\n    <!-- 0.052 -->\n    <g style=\"fill:#ffffff;\" transform=\"translate(145.464062 312.738594)scale(0.1 -0.1)\">\n     <use xlink:href=\"#DejaVuSans-48\"/>\n     <use x=\"63.623047\" xlink:href=\"#DejaVuSans-46\"/>\n     <use x=\"95.410156\" xlink:href=\"#DejaVuSans-48\"/>\n     <use x=\"159.033203\" xlink:href=\"#DejaVuSans-53\"/>\n     <use x=\"222.65625\" xlink:href=\"#DejaVuSans-50\"/>\n    </g>\n   </g>\n   <g id=\"text_46\">\n    <!-- -0.023 -->\n    <g style=\"fill:#ffffff;\" transform=\"translate(198.020156 312.738594)scale(0.1 -0.1)\">\n     <use xlink:href=\"#DejaVuSans-45\"/>\n     <use x=\"36.083984\" xlink:href=\"#DejaVuSans-48\"/>\n     <use x=\"99.707031\" xlink:href=\"#DejaVuSans-46\"/>\n     <use x=\"131.494141\" xlink:href=\"#DejaVuSans-48\"/>\n     <use x=\"195.117188\" xlink:href=\"#DejaVuSans-50\"/>\n     <use x=\"258.740234\" xlink:href=\"#DejaVuSans-51\"/>\n    </g>\n   </g>\n   <g id=\"text_47\">\n    <!-- -0.14 -->\n    <g style=\"fill:#ffffff;\" transform=\"translate(255.561406 312.738594)scale(0.1 -0.1)\">\n     <use xlink:href=\"#DejaVuSans-45\"/>\n     <use x=\"36.083984\" xlink:href=\"#DejaVuSans-48\"/>\n     <use x=\"99.707031\" xlink:href=\"#DejaVuSans-46\"/>\n     <use x=\"131.494141\" xlink:href=\"#DejaVuSans-49\"/>\n     <use x=\"195.117188\" xlink:href=\"#DejaVuSans-52\"/>\n    </g>\n   </g>\n   <g id=\"text_48\">\n    <!-- 1 -->\n    <g style=\"fill:#262626;\" transform=\"translate(319.676875 312.738594)scale(0.1 -0.1)\">\n     <use xlink:href=\"#DejaVuSans-49\"/>\n    </g>\n   </g>\n  </g>\n  <g id=\"axes_2\">\n   <g id=\"patch_3\">\n    <path clip-path=\"url(#pa2ce754310)\" d=\"M 375.148125 337.159219 \nL 375.148125 335.885156 \nL 375.148125 12.273281 \nL 375.148125 10.999219 \nL 391.456125 10.999219 \nL 391.456125 12.273281 \nL 391.456125 335.885156 \nL 391.456125 337.159219 \nz\n\" style=\"fill:#ffffff;stroke:#ffffff;stroke-linejoin:miter;stroke-width:0.01;\"/>\n   </g>\n   <image height=\"326\" id=\"image9a1d032b8f\" transform=\"scale(1 -1)translate(0 -326)\" width=\"16\" x=\"375\" xlink:href=\"data:image/png;base64,\niVBORw0KGgoAAAANSUhEUgAAABAAAAFGCAYAAABjUx8/AAAABHNCSVQICAgIfAhkiAAAAbtJREFUeJztmtENw0AIQ6G5LtH990yHeJbsQ9x/LPMwJGnTz/f3FjinydVVdbqZhECgmMAHXV2KEj73M+AlYIiQAXawECMg0lnwd0EQJHcbFQ4YhhFBGrDWF6K/BP8+mLDSAoJkZ4AdUAHFWocC949zwisPjrKdAVVYiAqICTuRnYQnVS7AzgQG9htLwDQKumB2EADRnsSAJ1V7DiJWGhRI6AI7M5LITgID9C/TFIhYwP6AAQUEEGmQJjDAAgtRsFDcKy2AwQYpgwGzgEsISCKH+DIIIxjcH6TGJVAHgjYOSCLugp0BnKaAJDZ8RFFAhAwEP4lSBwMg4igvA8wAlyC4N8LbswAid+CGyJMIPQQwmBAkKKD4AoIKcAbUQUASsYAZImdQ/o3kFhBAdJeAHQQMkwAi/IcjAaK5hFPUAS0hYBpHMMBBcn/YRh1EQGQmNolVp+CdZUKQ2h4k2oUAiP5pHADRnkTFK489Bxii/VtdwTDZuxAwjZABf1+4n4F9mLCDiJVmF9iVNmIa/UkcANHNYFfajCB1P2YHG6SMINEcLMSEYXJ3IWIazVGOWOs7jfYc+NsYkET7OGMGf87ULkujjXFMAAAAAElFTkSuQmCC\" y=\"-11\"/>\n   <g id=\"matplotlib.axis_3\"/>\n   <g id=\"matplotlib.axis_4\">\n    <g id=\"ytick_7\">\n     <g id=\"line2d_13\">\n      <defs>\n       <path d=\"M 0 0 \nL 3.5 0 \n\" id=\"m7463a6186b\" style=\"stroke:#000000;stroke-width:0.8;\"/>\n      </defs>\n      <g>\n       <use style=\"stroke:#000000;stroke-width:0.8;\" x=\"391.456125\" xlink:href=\"#m7463a6186b\" y=\"304.796552\"/>\n      </g>\n     </g>\n     <g id=\"text_49\">\n      <!-- −0.4 -->\n      <defs>\n       <path d=\"M 10.59375 35.5 \nL 73.1875 35.5 \nL 73.1875 27.203125 \nL 10.59375 27.203125 \nz\n\" id=\"DejaVuSans-8722\"/>\n      </defs>\n      <g transform=\"translate(398.456125 308.59577)scale(0.1 -0.1)\">\n       <use xlink:href=\"#DejaVuSans-8722\"/>\n       <use x=\"83.789062\" xlink:href=\"#DejaVuSans-48\"/>\n       <use x=\"147.412109\" xlink:href=\"#DejaVuSans-46\"/>\n       <use x=\"179.199219\" xlink:href=\"#DejaVuSans-52\"/>\n      </g>\n     </g>\n    </g>\n    <g id=\"ytick_8\">\n     <g id=\"line2d_14\">\n      <g>\n       <use style=\"stroke:#000000;stroke-width:0.8;\" x=\"391.456125\" xlink:href=\"#m7463a6186b\" y=\"255.830329\"/>\n      </g>\n     </g>\n     <g id=\"text_50\">\n      <!-- −0.2 -->\n      <g transform=\"translate(398.456125 259.629548)scale(0.1 -0.1)\">\n       <use xlink:href=\"#DejaVuSans-8722\"/>\n       <use x=\"83.789062\" xlink:href=\"#DejaVuSans-48\"/>\n       <use x=\"147.412109\" xlink:href=\"#DejaVuSans-46\"/>\n       <use x=\"179.199219\" xlink:href=\"#DejaVuSans-50\"/>\n      </g>\n     </g>\n    </g>\n    <g id=\"ytick_9\">\n     <g id=\"line2d_15\">\n      <g>\n       <use style=\"stroke:#000000;stroke-width:0.8;\" x=\"391.456125\" xlink:href=\"#m7463a6186b\" y=\"206.864107\"/>\n      </g>\n     </g>\n     <g id=\"text_51\">\n      <!-- 0.0 -->\n      <g transform=\"translate(398.456125 210.663326)scale(0.1 -0.1)\">\n       <use xlink:href=\"#DejaVuSans-48\"/>\n       <use x=\"63.623047\" xlink:href=\"#DejaVuSans-46\"/>\n       <use x=\"95.410156\" xlink:href=\"#DejaVuSans-48\"/>\n      </g>\n     </g>\n    </g>\n    <g id=\"ytick_10\">\n     <g id=\"line2d_16\">\n      <g>\n       <use style=\"stroke:#000000;stroke-width:0.8;\" x=\"391.456125\" xlink:href=\"#m7463a6186b\" y=\"157.897885\"/>\n      </g>\n     </g>\n     <g id=\"text_52\">\n      <!-- 0.2 -->\n      <g transform=\"translate(398.456125 161.697104)scale(0.1 -0.1)\">\n       <use xlink:href=\"#DejaVuSans-48\"/>\n       <use x=\"63.623047\" xlink:href=\"#DejaVuSans-46\"/>\n       <use x=\"95.410156\" xlink:href=\"#DejaVuSans-50\"/>\n      </g>\n     </g>\n    </g>\n    <g id=\"ytick_11\">\n     <g id=\"line2d_17\">\n      <g>\n       <use style=\"stroke:#000000;stroke-width:0.8;\" x=\"391.456125\" xlink:href=\"#m7463a6186b\" y=\"108.931663\"/>\n      </g>\n     </g>\n     <g id=\"text_53\">\n      <!-- 0.4 -->\n      <g transform=\"translate(398.456125 112.730882)scale(0.1 -0.1)\">\n       <use xlink:href=\"#DejaVuSans-48\"/>\n       <use x=\"63.623047\" xlink:href=\"#DejaVuSans-46\"/>\n       <use x=\"95.410156\" xlink:href=\"#DejaVuSans-52\"/>\n      </g>\n     </g>\n    </g>\n    <g id=\"ytick_12\">\n     <g id=\"line2d_18\">\n      <g>\n       <use style=\"stroke:#000000;stroke-width:0.8;\" x=\"391.456125\" xlink:href=\"#m7463a6186b\" y=\"59.965441\"/>\n      </g>\n     </g>\n     <g id=\"text_54\">\n      <!-- 0.6 -->\n      <g transform=\"translate(398.456125 63.76466)scale(0.1 -0.1)\">\n       <use xlink:href=\"#DejaVuSans-48\"/>\n       <use x=\"63.623047\" xlink:href=\"#DejaVuSans-46\"/>\n       <use x=\"95.410156\" xlink:href=\"#DejaVuSans-54\"/>\n      </g>\n     </g>\n    </g>\n    <g id=\"ytick_13\">\n     <g id=\"line2d_19\">\n      <g>\n       <use style=\"stroke:#000000;stroke-width:0.8;\" x=\"391.456125\" xlink:href=\"#m7463a6186b\" y=\"10.999219\"/>\n      </g>\n     </g>\n     <g id=\"text_55\">\n      <!-- 0.8 -->\n      <defs>\n       <path d=\"M 31.78125 34.625 \nQ 24.75 34.625 20.71875 30.859375 \nQ 16.703125 27.09375 16.703125 20.515625 \nQ 16.703125 13.921875 20.71875 10.15625 \nQ 24.75 6.390625 31.78125 6.390625 \nQ 38.8125 6.390625 42.859375 10.171875 \nQ 46.921875 13.96875 46.921875 20.515625 \nQ 46.921875 27.09375 42.890625 30.859375 \nQ 38.875 34.625 31.78125 34.625 \nz\nM 21.921875 38.8125 \nQ 15.578125 40.375 12.03125 44.71875 \nQ 8.5 49.078125 8.5 55.328125 \nQ 8.5 64.0625 14.71875 69.140625 \nQ 20.953125 74.21875 31.78125 74.21875 \nQ 42.671875 74.21875 48.875 69.140625 \nQ 55.078125 64.0625 55.078125 55.328125 \nQ 55.078125 49.078125 51.53125 44.71875 \nQ 48 40.375 41.703125 38.8125 \nQ 48.828125 37.15625 52.796875 32.3125 \nQ 56.78125 27.484375 56.78125 20.515625 \nQ 56.78125 9.90625 50.3125 4.234375 \nQ 43.84375 -1.421875 31.78125 -1.421875 \nQ 19.734375 -1.421875 13.25 4.234375 \nQ 6.78125 9.90625 6.78125 20.515625 \nQ 6.78125 27.484375 10.78125 32.3125 \nQ 14.796875 37.15625 21.921875 38.8125 \nz\nM 18.3125 54.390625 \nQ 18.3125 48.734375 21.84375 45.5625 \nQ 25.390625 42.390625 31.78125 42.390625 \nQ 38.140625 42.390625 41.71875 45.5625 \nQ 45.3125 48.734375 45.3125 54.390625 \nQ 45.3125 60.0625 41.71875 63.234375 \nQ 38.140625 66.40625 31.78125 66.40625 \nQ 25.390625 66.40625 21.84375 63.234375 \nQ 18.3125 60.0625 18.3125 54.390625 \nz\n\" id=\"DejaVuSans-56\"/>\n      </defs>\n      <g transform=\"translate(398.456125 14.798438)scale(0.1 -0.1)\">\n       <use xlink:href=\"#DejaVuSans-48\"/>\n       <use x=\"63.623047\" xlink:href=\"#DejaVuSans-46\"/>\n       <use x=\"95.410156\" xlink:href=\"#DejaVuSans-56\"/>\n      </g>\n     </g>\n    </g>\n   </g>\n   <g id=\"patch_4\">\n    <path d=\"M 375.148125 337.159219 \nL 375.148125 335.885156 \nL 375.148125 12.273281 \nL 375.148125 10.999219 \nL 391.456125 10.999219 \nL 391.456125 12.273281 \nL 391.456125 335.885156 \nL 391.456125 337.159219 \nz\n\" style=\"fill:none;\"/>\n   </g>\n  </g>\n </g>\n <defs>\n  <clipPath id=\"p1fe352fe04\">\n   <rect height=\"326.16\" width=\"326.16\" x=\"23.878125\" y=\"10.999219\"/>\n  </clipPath>\n  <clipPath id=\"pa2ce754310\">\n   <rect height=\"326.16\" width=\"16.308\" x=\"375.148125\" y=\"10.999219\"/>\n  </clipPath>\n </defs>\n</svg>\n",
      "image/png": "[encoded data removed]"
     },
     "metadata": {
      "needs_background": "light"
     }
    }
   ],
   "source": [
    "# heat map of correlation of features\n",
    "correlation_matrix = all_data.corr()\n",
    "fig = plt.figure(figsize=(9,6))\n",
    "sns.heatmap(correlation_matrix,vmax=0.8,square = True, annot= True)\n",
    "plt.show()"
   ]
  },
  {
   "cell_type": "code",
   "execution_count": 30,
   "metadata": {},
   "outputs": [],
   "source": [
    "all_data.to_csv('../data/ALL_DATA.csv', index = False)\n"
   ]
  },
  {
   "cell_type": "code",
   "execution_count": null,
   "metadata": {},
   "outputs": [],
   "source": []
  },
  {
   "cell_type": "code",
   "execution_count": null,
   "metadata": {},
   "outputs": [],
   "source": []
  },
  {
   "cell_type": "code",
   "execution_count": null,
   "metadata": {},
   "outputs": [],
   "source": []
  },
  {
   "source": [
    "## Sampling\n",
    "### (Test sample size is set to 10%)\n",
    "### Only comment out once all testing / experiment is done, to use real data\n",
    "---"
   ],
   "cell_type": "markdown",
   "metadata": {}
  },
  {
   "cell_type": "code",
   "execution_count": 22,
   "metadata": {},
   "outputs": [
    {
     "output_type": "stream",
     "name": "stdout",
     "text": [
      "Original Data Stats: \n",
      "\n",
      "                 id          mass          year        reclat       reclong  \\\n",
      "count  45716.000000  4.558500e+04  45428.000000  38401.000000  38401.000000   \n",
      "mean   26889.735104  1.327808e+04   1991.772189    -39.122580     61.074319   \n",
      "std    16860.683030  5.749889e+05     27.181247     46.378511     80.647298   \n",
      "min        1.000000  0.000000e+00    301.000000    -87.366670   -165.433330   \n",
      "25%    12688.750000  7.200000e+00   1987.000000    -76.714240      0.000000   \n",
      "50%    24261.500000  3.260000e+01   1998.000000    -71.500000     35.666670   \n",
      "75%    40656.750000  2.026000e+02   2003.000000      0.000000    157.166670   \n",
      "max    57458.000000  6.000000e+07   2501.000000     81.166670    354.473330   \n",
      "\n",
      "         Session ID   Observer ID  Submitter ID      Latitude     Longitude  \\\n",
      "count  42989.000000  42669.000000  42989.000000  42977.000000  42977.000000   \n",
      "mean   47933.908302   3265.037639   3290.464863     40.289017     19.033399   \n",
      "std    24835.304749   2840.093094   2854.731436     19.147883     59.634375   \n",
      "min        1.000000      1.000000      1.000000    -67.566667   -174.833333   \n",
      "25%    26090.000000    348.000000    348.000000     36.833333      6.883333   \n",
      "50%    56332.000000   2980.000000   3016.000000     45.969790     17.400000   \n",
      "75%    69482.000000   5634.000000   5712.000000     50.818889     27.670556   \n",
      "max    80694.000000  12423.000000  12423.000000     82.569167    178.050000   \n",
      "\n",
      "          Elevation  \n",
      "count  42977.000000  \n",
      "mean     333.548386  \n",
      "std      539.306798  \n",
      "min      -11.000000  \n",
      "25%        0.000000  \n",
      "50%      100.000000  \n",
      "75%      445.000000  \n",
      "max     9999.000000  \n",
      "\n",
      "--------\n",
      "\n",
      "New Sample Data Stats: \n",
      "\n",
      "                 id          mass         year       reclat      reclong  \\\n",
      "count   4565.000000  4.554000e+03  4544.000000  3816.000000  3816.000000   \n",
      "mean   26854.780066  6.444651e+03  1991.554357   -39.422909    61.153595   \n",
      "std    16784.672396  1.386586e+05    31.229218    46.391899    80.772319   \n",
      "min       26.000000  0.000000e+00   601.000000   -87.366670  -165.116670   \n",
      "25%    12933.000000  7.100000e+00  1987.000000   -76.716670     0.000000   \n",
      "50%    24159.000000  3.329000e+01  1998.000000   -71.500000    35.666670   \n",
      "75%    40507.000000  2.097500e+02  2003.000000     0.000000   157.166670   \n",
      "max    57457.000000  7.000000e+06  2012.000000    81.166670   354.473330   \n",
      "\n",
      "         Session ID   Observer ID  Submitter ID     Latitude    Longitude  \\\n",
      "count   4305.000000   4267.000000   4305.000000  4304.000000  4304.000000   \n",
      "mean   48483.742857   3313.425357   3345.728223    40.593461    17.816823   \n",
      "std    24948.785442   2869.688375   2894.196016    18.874064    59.101501   \n",
      "min        3.000000      1.000000      1.000000   -62.161389  -158.150000   \n",
      "25%    26228.000000    366.000000    366.000000    37.889514     6.747778   \n",
      "50%    58078.000000   3100.000000   3101.000000    45.969790    17.396111   \n",
      "75%    69900.000000   5712.000000   5799.000000    50.950000    27.054167   \n",
      "max    80688.000000  12140.000000  12140.000000    74.683333   178.050000   \n",
      "\n",
      "         Elevation  \n",
      "count  4304.000000  \n",
      "mean    329.544610  \n",
      "std     518.757694  \n",
      "min      -3.000000  \n",
      "25%       0.000000  \n",
      "50%     100.000000  \n",
      "75%     436.750000  \n",
      "max    3785.000000  \n"
     ]
    }
   ],
   "source": [
    "# *****************************\n",
    "# HIGHLY IMPORTANT\n",
    "# *****************************\n",
    "\n",
    "# Sample data\n",
    "print(\"Original Data Stats: \\n\")\n",
    "print(all_data.describe())\n",
    "\n",
    "print('\\n--------\\n')\n",
    "\n",
    "print(\"New Sample Data Stats: \\n\")\n",
    "# all_data['year'].fillna(0).astype(int)\n",
    "# all_data['mass'].fillna(0).astype(int)\n",
    "\n",
    "\n",
    "all_data = all_data.sample(frac=0.1)  # 10% sample set\n",
    "print(all_data.describe())\n"
   ]
  }
 ]
}