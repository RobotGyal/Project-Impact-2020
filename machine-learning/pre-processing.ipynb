{
 "metadata": {
  "language_info": {
   "codemirror_mode": {
    "name": "ipython",
    "version": 3
   },
   "file_extension": ".py",
   "mimetype": "text/x-python",
   "name": "python",
   "nbconvert_exporter": "python",
   "pygments_lexer": "ipython3",
   "version": "3.7.6-final"
  },
  "orig_nbformat": 2,
  "kernelspec": {
   "name": "Python 3.7.6 64-bit",
   "display_name": "Python 3.7.6 64-bit",
   "metadata": {
    "interpreter": {
     "hash": "df955ce39d0f31d56d4bb2fe0a613e5326ba60723fd33d8303a3aede8f65715c"
    }
   }
  }
 },
 "nbformat": 4,
 "nbformat_minor": 2,
 "cells": [
  {
   "source": [
    "# ___Imports___"
   ],
   "cell_type": "markdown",
   "metadata": {}
  },
  {
   "cell_type": "code",
   "execution_count": 1,
   "metadata": {},
   "outputs": [],
   "source": [
    "import numpy as np\n",
    "import matplotlib.pyplot as plt\n",
    "import pandas as pd\n",
    "import seaborn as sns\n",
    "from scipy import stats\n",
    "import plotly.express as px\n",
    "from geopy.geocoders import Nominatim\n",
    "import geopy as gp\n",
    "from datetime import datetime\n",
    "from glob import glob"
   ]
  },
  {
   "source": [
    "## ___NASA data___"
   ],
   "cell_type": "markdown",
   "metadata": {}
  },
  {
   "cell_type": "code",
   "execution_count": 14,
   "metadata": {},
   "outputs": [
    {
     "output_type": "stream",
     "name": "stdout",
     "text": [
      "Index(['name', 'id', 'nametype', 'recclass', 'mass', 'fall', 'year', 'reclat',\n       'reclong', 'GeoLocation'],\n      dtype='object')\n"
     ]
    },
    {
     "output_type": "execute_result",
     "data": {
      "text/plain": [
       "(45716, 10)"
      ]
     },
     "metadata": {},
     "execution_count": 14
    }
   ],
   "source": [
    "nasa_data = pd.read_csv('../data/meteorite-landings.csv')\n",
    "print(nasa_data.columns)\n",
    "\n",
    "nasa_data.head()\n",
    "np.shape(nasa_data)"
   ]
  },
  {
   "source": [
    "## ___IMO data___"
   ],
   "cell_type": "markdown",
   "metadata": {}
  },
  {
   "cell_type": "code",
   "execution_count": 12,
   "metadata": {},
   "outputs": [
    {
     "output_type": "stream",
     "name": "stdout",
     "text": [
      "Index(['Session ID', 'Start Date', 'Observer ID', 'Submitter ID',\n       'Actual Observer Name', 'Submitted by', 'City', 'Country', 'Latitude',\n       'Longitude', 'Elevation'],\n      dtype='object')\n"
     ]
    },
    {
     "output_type": "execute_result",
     "data": {
      "text/plain": [
       "(42989, 11)"
      ]
     },
     "metadata": {},
     "execution_count": 12
    }
   ],
   "source": [
    "imo_data = pd.read_csv('../data/IMO/data/IMO9920.csv')\n",
    "print(imo_data.columns)\n",
    "\n",
    "imo_data.head()\n",
    "np.shape(imo_data)"
   ]
  },
  {
   "source": [
    "## ___Combining data___"
   ],
   "cell_type": "markdown",
   "metadata": {}
  },
  {
   "cell_type": "code",
   "execution_count": 22,
   "metadata": {},
   "outputs": [
    {
     "output_type": "stream",
     "name": "stdout",
     "text": [
      "Index(['name', 'id', 'nametype', 'recclass', 'mass', 'fall', 'year', 'reclat',\n",
      "       'reclong', 'GeoLocation', 'Session ID', 'Start Date', 'Observer ID',\n",
      "       'Submitter ID', 'Actual Observer Name', 'Submitted by', 'City',\n",
      "       'Country', 'Latitude', 'Longitude', 'Elevation'],\n",
      "      dtype='object')\n",
      "<bound method NDFrame.head of                 name     id nametype     recclass      mass  fall    year  \\\n",
      "NASA 0        Aachen    1.0    Valid           L5      21.0  Fell  1880.0   \n",
      "     1        Aarhus    2.0    Valid           H6     720.0  Fell  1951.0   \n",
      "     2          Abee    6.0    Valid          EH4  107000.0  Fell  1952.0   \n",
      "     3      Acapulco   10.0    Valid  Acapulcoite    1914.0  Fell  1976.0   \n",
      "     4       Achiras  370.0    Valid           L6     780.0  Fell  1902.0   \n",
      "...              ...    ...      ...          ...       ...   ...     ...   \n",
      "IMO  42984       NaN    NaN      NaN          NaN       NaN   NaN     NaN   \n",
      "     42985       NaN    NaN      NaN          NaN       NaN   NaN     NaN   \n",
      "     42986       NaN    NaN      NaN          NaN       NaN   NaN     NaN   \n",
      "     42987       NaN    NaN      NaN          NaN       NaN   NaN     NaN   \n",
      "     42988       NaN    NaN      NaN          NaN       NaN   NaN     NaN   \n",
      "\n",
      "              reclat    reclong               GeoLocation  ...  \\\n",
      "NASA 0      50.77500    6.08333     (50.775000, 6.083330)  ...   \n",
      "     1      56.18333   10.23333    (56.183330, 10.233330)  ...   \n",
      "     2      54.21667 -113.00000  (54.216670, -113.000000)  ...   \n",
      "     3      16.88333  -99.90000   (16.883330, -99.900000)  ...   \n",
      "     4     -33.16667  -64.95000  (-33.166670, -64.950000)  ...   \n",
      "...              ...        ...                       ...  ...   \n",
      "IMO  42984       NaN        NaN                       NaN  ...   \n",
      "     42985       NaN        NaN                       NaN  ...   \n",
      "     42986       NaN        NaN                       NaN  ...   \n",
      "     42987       NaN        NaN                       NaN  ...   \n",
      "     42988       NaN        NaN                       NaN  ...   \n",
      "\n",
      "                     Start Date Observer ID  Submitter ID  \\\n",
      "NASA 0                      NaN         NaN           NaN   \n",
      "     1                      NaN         NaN           NaN   \n",
      "     2                      NaN         NaN           NaN   \n",
      "     3                      NaN         NaN           NaN   \n",
      "     4                      NaN         NaN           NaN   \n",
      "...                         ...         ...           ...   \n",
      "IMO  42984  2005-01-10 13:15:00      7956.0        7956.0   \n",
      "     42985  2005-01-13 13:00:00      7956.0        7956.0   \n",
      "     42986  2005-07-29 11:10:00      7956.0        7956.0   \n",
      "     42987  2005-07-30 14:55:00      7956.0        7956.0   \n",
      "     42988  2005-03-09 19:37:00      1651.0        1651.0   \n",
      "\n",
      "            Actual Observer Name    Submitted by                City  \\\n",
      "NASA 0                       NaN             NaN                 NaN   \n",
      "     1                       NaN             NaN                 NaN   \n",
      "     2                       NaN             NaN                 NaN   \n",
      "     3                       NaN             NaN                 NaN   \n",
      "     4                       NaN             NaN                 NaN   \n",
      "...                          ...             ...                 ...   \n",
      "IMO  42984            Adam Marsh      Adam Marsh  Pakenham, Victoria   \n",
      "     42985            Adam Marsh      Adam Marsh  Pakenham, Victoria   \n",
      "     42986            Adam Marsh      Adam Marsh          Ladys Pass   \n",
      "     42987            Adam Marsh      Adam Marsh          Ladys Pass   \n",
      "     42988        Jaroslaw Dygos  Jaroslaw Dygos     Czernice Borowe   \n",
      "\n",
      "              Country   Latitude   Longitude  Elevation  \n",
      "NASA 0            NaN        NaN         NaN        NaN  \n",
      "     1            NaN        NaN         NaN        NaN  \n",
      "     2            NaN        NaN         NaN        NaN  \n",
      "     3            NaN        NaN         NaN        NaN  \n",
      "     4            NaN        NaN         NaN        NaN  \n",
      "...               ...        ...         ...        ...  \n",
      "IMO  42984  Australia -38.000000  145.000000      100.0  \n",
      "     42985  Australia -38.000000  145.000000      100.0  \n",
      "     42986  Australia -36.816110  144.680991      233.0  \n",
      "     42987  Australia -36.816110  144.680991      233.0  \n",
      "     42988     Poland  53.033333   20.716667      150.0  \n",
      "\n",
      "[88705 rows x 21 columns]>\n"
     ]
    },
    {
     "output_type": "execute_result",
     "data": {
      "text/plain": [
       "(88705, 21)"
      ]
     },
     "metadata": {},
     "execution_count": 22
    }
   ],
   "source": [
    "all_data = pd.concat([nasa_data, imo_data], sort=False, keys=['NASA', 'IMO'])\n",
    "print(all_data.columns)\n",
    "print(all_data.head)\n",
    "np.shape(all_data)\n"
   ]
  },
  {
   "source": [
    "## ___Cleaning___"
   ],
   "cell_type": "markdown",
   "metadata": {}
  },
  {
   "cell_type": "code",
   "execution_count": null,
   "metadata": {},
   "outputs": [],
   "source": []
  }
 ]
}