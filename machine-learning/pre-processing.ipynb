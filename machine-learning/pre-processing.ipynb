{
 "metadata": {
  "language_info": {
   "codemirror_mode": {
    "name": "ipython",
    "version": 3
   },
   "file_extension": ".py",
   "mimetype": "text/x-python",
   "name": "python",
   "nbconvert_exporter": "python",
   "pygments_lexer": "ipython3",
   "version": "3.7.6-final"
  },
  "orig_nbformat": 2,
  "kernelspec": {
   "name": "Python 3.7.6 64-bit",
   "display_name": "Python 3.7.6 64-bit",
   "metadata": {
    "interpreter": {
     "hash": "df955ce39d0f31d56d4bb2fe0a613e5326ba60723fd33d8303a3aede8f65715c"
    }
   }
  }
 },
 "nbformat": 4,
 "nbformat_minor": 2,
 "cells": [
  {
   "source": [
    "# ___Imports___"
   ],
   "cell_type": "markdown",
   "metadata": {}
  },
  {
   "cell_type": "code",
   "execution_count": 1,
   "metadata": {},
   "outputs": [],
   "source": [
    "import numpy as np\n",
    "import matplotlib.pyplot as plt\n",
    "import pandas as pd\n",
    "import seaborn as sns\n",
    "from scipy import stats\n",
    "# import plotly.express as px\n",
    "# from geopy.geocoders import Nominatim\n",
    "# import geopy as gp\n",
    "# from datetime import datetime\n",
    "# from glob import glob"
   ]
  },
  {
   "source": [
    "## ___NASA data___"
   ],
   "cell_type": "markdown",
   "metadata": {}
  },
  {
   "cell_type": "code",
   "execution_count": 14,
   "metadata": {},
   "outputs": [
    {
     "output_type": "stream",
     "name": "stdout",
     "text": [
      "Index(['name', 'id', 'nametype', 'recclass', 'mass', 'fall', 'year', 'reclat',\n       'reclong', 'GeoLocation'],\n      dtype='object')\n"
     ]
    },
    {
     "output_type": "execute_result",
     "data": {
      "text/plain": [
       "(45716, 10)"
      ]
     },
     "metadata": {},
     "execution_count": 14
    }
   ],
   "source": [
    "# load data for nasa\n",
    "nasa_data = pd.read_csv('../data/meteorite-landings.csv')\n",
    "print(nasa_data.columns)\n",
    "\n",
    "nasa_data.head()\n",
    "np.shape(nasa_data)"
   ]
  },
  {
   "source": [
    "## ___IMO data___"
   ],
   "cell_type": "markdown",
   "metadata": {}
  },
  {
   "cell_type": "code",
   "execution_count": 12,
   "metadata": {},
   "outputs": [
    {
     "output_type": "stream",
     "name": "stdout",
     "text": [
      "Index(['Session ID', 'Start Date', 'Observer ID', 'Submitter ID',\n       'Actual Observer Name', 'Submitted by', 'City', 'Country', 'Latitude',\n       'Longitude', 'Elevation'],\n      dtype='object')\n"
     ]
    },
    {
     "output_type": "execute_result",
     "data": {
      "text/plain": [
       "(42989, 11)"
      ]
     },
     "metadata": {},
     "execution_count": 12
    }
   ],
   "source": [
    "# load data for imo\n",
    "imo_data = pd.read_csv('../data/IMO/data/IMO9920.csv')\n",
    "print(imo_data.columns)\n",
    "\n",
    "imo_data.head()\n",
    "np.shape(imo_data)"
   ]
  },
  {
   "source": [
    "## ___Combining data___"
   ],
   "cell_type": "markdown",
   "metadata": {}
  },
  {
   "cell_type": "code",
   "execution_count": 28,
   "metadata": {},
   "outputs": [
    {
     "output_type": "stream",
     "name": "stdout",
     "text": [
      "Index(['name', 'id', 'nametype', 'recclass', 'mass', 'fall', 'year', 'reclat',\n       'reclong', 'GeoLocation', 'Session ID', 'Start Date', 'Observer ID',\n       'Submitter ID', 'Actual Observer Name', 'Submitted by', 'City',\n       'Country', 'Latitude', 'Longitude', 'Elevation'],\n      dtype='object')\n<bound method NDFrame.head of                 name     id nametype     recclass      mass  fall    year  \\\nNASA 0        Aachen    1.0    Valid           L5      21.0  Fell  1880.0   \n     1        Aarhus    2.0    Valid           H6     720.0  Fell  1951.0   \n     2          Abee    6.0    Valid          EH4  107000.0  Fell  1952.0   \n     3      Acapulco   10.0    Valid  Acapulcoite    1914.0  Fell  1976.0   \n     4       Achiras  370.0    Valid           L6     780.0  Fell  1902.0   \n...              ...    ...      ...          ...       ...   ...     ...   \nIMO  42984       NaN    NaN      NaN          NaN       NaN   NaN     NaN   \n     42985       NaN    NaN      NaN          NaN       NaN   NaN     NaN   \n     42986       NaN    NaN      NaN          NaN       NaN   NaN     NaN   \n     42987       NaN    NaN      NaN          NaN       NaN   NaN     NaN   \n     42988       NaN    NaN      NaN          NaN       NaN   NaN     NaN   \n\n              reclat    reclong               GeoLocation  ...  \\\nNASA 0      50.77500    6.08333     (50.775000, 6.083330)  ...   \n     1      56.18333   10.23333    (56.183330, 10.233330)  ...   \n     2      54.21667 -113.00000  (54.216670, -113.000000)  ...   \n     3      16.88333  -99.90000   (16.883330, -99.900000)  ...   \n     4     -33.16667  -64.95000  (-33.166670, -64.950000)  ...   \n...              ...        ...                       ...  ...   \nIMO  42984       NaN        NaN                       NaN  ...   \n     42985       NaN        NaN                       NaN  ...   \n     42986       NaN        NaN                       NaN  ...   \n     42987       NaN        NaN                       NaN  ...   \n     42988       NaN        NaN                       NaN  ...   \n\n                     Start Date Observer ID  Submitter ID  \\\nNASA 0                      NaN         NaN           NaN   \n     1                      NaN         NaN           NaN   \n     2                      NaN         NaN           NaN   \n     3                      NaN         NaN           NaN   \n     4                      NaN         NaN           NaN   \n...                         ...         ...           ...   \nIMO  42984  2005-01-10 13:15:00      7956.0        7956.0   \n     42985  2005-01-13 13:00:00      7956.0        7956.0   \n     42986  2005-07-29 11:10:00      7956.0        7956.0   \n     42987  2005-07-30 14:55:00      7956.0        7956.0   \n     42988  2005-03-09 19:37:00      1651.0        1651.0   \n\n            Actual Observer Name    Submitted by                City  \\\nNASA 0                       NaN             NaN                 NaN   \n     1                       NaN             NaN                 NaN   \n     2                       NaN             NaN                 NaN   \n     3                       NaN             NaN                 NaN   \n     4                       NaN             NaN                 NaN   \n...                          ...             ...                 ...   \nIMO  42984            Adam Marsh      Adam Marsh  Pakenham, Victoria   \n     42985            Adam Marsh      Adam Marsh  Pakenham, Victoria   \n     42986            Adam Marsh      Adam Marsh          Ladys Pass   \n     42987            Adam Marsh      Adam Marsh          Ladys Pass   \n     42988        Jaroslaw Dygos  Jaroslaw Dygos     Czernice Borowe   \n\n              Country   Latitude   Longitude  Elevation  \nNASA 0            NaN        NaN         NaN        NaN  \n     1            NaN        NaN         NaN        NaN  \n     2            NaN        NaN         NaN        NaN  \n     3            NaN        NaN         NaN        NaN  \n     4            NaN        NaN         NaN        NaN  \n...               ...        ...         ...        ...  \nIMO  42984  Australia -38.000000  145.000000      100.0  \n     42985  Australia -38.000000  145.000000      100.0  \n     42986  Australia -36.816110  144.680991      233.0  \n     42987  Australia -36.816110  144.680991      233.0  \n     42988     Poland  53.033333   20.716667      150.0  \n\n[88705 rows x 21 columns]>\n"
     ]
    },
    {
     "output_type": "execute_result",
     "data": {
      "text/plain": [
       "(88705, 21)"
      ]
     },
     "metadata": {},
     "execution_count": 28
    }
   ],
   "source": [
    "# Combine the 2 datasets into 1\n",
    "all_data = pd.concat([nasa_data, imo_data], sort=False, keys=['NASA', 'IMO'])\n",
    "# Show columns, first 5 rows, and shape to verify combination\n",
    "print(all_data.columns)\n",
    "print(all_data.head)\n",
    "np.shape(all_data)\n"
   ]
  },
  {
   "source": [
    "# ___NOTES___\n",
    "\n",
    "- Nasa data ranges from index 0:45715\n",
    "- IMO data ranges from index 45716:end"
   ],
   "cell_type": "markdown",
   "metadata": {}
  },
  {
   "source": [
    "## ___Cleaning___"
   ],
   "cell_type": "markdown",
   "metadata": {}
  },
  {
   "cell_type": "code",
   "execution_count": 29,
   "metadata": {},
   "outputs": [],
   "source": [
    "# Drop unnecessary columns\n",
    "\n",
    "all_data = all_data.drop(['name', 'nametype', 'GeoLocation', 'Observer ID', 'Submitter ID', 'Actual Observer Name', 'Submitted by'], axis=1)"
   ]
  },
  {
   "cell_type": "code",
   "execution_count": 31,
   "metadata": {},
   "outputs": [
    {
     "output_type": "stream",
     "name": "stdout",
     "text": [
      "<bound method NDFrame.head of                id     recclass      mass  fall    year    reclat    reclong  \\\nNASA 0        1.0           L5      21.0  Fell  1880.0  50.77500    6.08333   \n     1        2.0           H6     720.0  Fell  1951.0  56.18333   10.23333   \n     2        6.0          EH4  107000.0  Fell  1952.0  54.21667 -113.00000   \n     3       10.0  Acapulcoite    1914.0  Fell  1976.0  16.88333  -99.90000   \n     4      370.0           L6     780.0  Fell  1902.0 -33.16667  -64.95000   \n...           ...          ...       ...   ...     ...       ...        ...   \nIMO  42984    NaN          NaN       NaN   NaN     NaN       NaN        NaN   \n     42985    NaN          NaN       NaN   NaN     NaN       NaN        NaN   \n     42986    NaN          NaN       NaN   NaN     NaN       NaN        NaN   \n     42987    NaN          NaN       NaN   NaN     NaN       NaN        NaN   \n     42988    NaN          NaN       NaN   NaN     NaN       NaN        NaN   \n\n            Session ID           Start Date                City    Country  \\\nNASA 0             NaN                  NaN                 NaN        NaN   \n     1             NaN                  NaN                 NaN        NaN   \n     2             NaN                  NaN                 NaN        NaN   \n     3             NaN                  NaN                 NaN        NaN   \n     4             NaN                  NaN                 NaN        NaN   \n...                ...                  ...                 ...        ...   \nIMO  42984     75686.0  2005-01-10 13:15:00  Pakenham, Victoria  Australia   \n     42985     75687.0  2005-01-13 13:00:00  Pakenham, Victoria  Australia   \n     42986     75691.0  2005-07-29 11:10:00          Ladys Pass  Australia   \n     42987     75692.0  2005-07-30 14:55:00          Ladys Pass  Australia   \n     42988     78769.0  2005-03-09 19:37:00     Czernice Borowe     Poland   \n\n             Latitude   Longitude  Elevation  \nNASA 0            NaN         NaN        NaN  \n     1            NaN         NaN        NaN  \n     2            NaN         NaN        NaN  \n     3            NaN         NaN        NaN  \n     4            NaN         NaN        NaN  \n...               ...         ...        ...  \nIMO  42984 -38.000000  145.000000      100.0  \n     42985 -38.000000  145.000000      100.0  \n     42986 -36.816110  144.680991      233.0  \n     42987 -36.816110  144.680991      233.0  \n     42988  53.033333   20.716667      150.0  \n\n[88705 rows x 14 columns]>\n(88705, 14)\n"
     ]
    }
   ],
   "source": [
    "# Confirmation of dropped columns\n",
    "print(all_data.head)\n",
    "print(np.shape(all_data))"
   ]
  },
  {
   "cell_type": "code",
   "execution_count": 39,
   "metadata": {},
   "outputs": [
    {
     "output_type": "execute_result",
     "data": {
      "text/plain": [
       "id            42989\n",
       "recclass      42989\n",
       "mass          43120\n",
       "fall          42989\n",
       "year          43277\n",
       "reclat        50304\n",
       "reclong       50304\n",
       "Session ID    45716\n",
       "Start Date    45716\n",
       "City          45728\n",
       "Country       45728\n",
       "Latitude      45728\n",
       "Longitude     45728\n",
       "Elevation     45728\n",
       "dtype: int64"
      ]
     },
     "metadata": {},
     "execution_count": 39
    }
   ],
   "source": [
    "# Check for Null Values\n",
    "\n",
    "all_data.isnull().sum()\n"
   ]
  },
  {
   "cell_type": "code",
   "execution_count": 49,
   "metadata": {},
   "outputs": [],
   "source": [
    "# merge IMO ids to NASA NaN ids\n",
    "all_data['id'] = all_data['id'].replace(np.NaN, all_data['Session ID'][45716:])"
   ]
  },
  {
   "cell_type": "code",
   "execution_count": 52,
   "metadata": {},
   "outputs": [],
   "source": [
    "# merge IMO latitudess to NASA NaN latitudes\n",
    "all_data['reclat'] = all_data['reclat'].replace(np.NaN, all_data['Latitude'][45716:])"
   ]
  },
  {
   "cell_type": "code",
   "execution_count": 53,
   "metadata": {},
   "outputs": [],
   "source": [
    "# merge IMO longitudes to NASA NaN longitudes\n",
    "all_data['reclong'] = all_data['reclong'].replace(np.NaN, all_data['Longitude'][45716:])"
   ]
  },
  {
   "cell_type": "code",
   "execution_count": 138,
   "metadata": {},
   "outputs": [
    {
     "output_type": "execute_result",
     "data": {
      "text/plain": [
       "<bound method NDFrame.tail of NASA  0         NaN\n",
       "      1         NaN\n",
       "      2         NaN\n",
       "      3         NaN\n",
       "      4         NaN\n",
       "               ... \n",
       "IMO   42984    2005\n",
       "      42985    2005\n",
       "      42986    2005\n",
       "      42987    2005\n",
       "      42988    2005\n",
       "Name: Start Date, Length: 88705, dtype: object>"
      ]
     },
     "metadata": {},
     "execution_count": 138
    }
   ],
   "source": [
    "# Convert the IMO Start Date to NASA year\n",
    "for i in range(45716, np.shape(all_data)[0]):\n",
    "    all_data['Start Date'][i] = all_data['Start Date'][i][:4]\n",
    "\n",
    "all_data['Start Date'].tail"
   ]
  },
  {
   "cell_type": "code",
   "execution_count": 139,
   "metadata": {},
   "outputs": [],
   "source": [
    "# merge IMO start dates to NASA NaN year\n",
    "all_data['year'] = all_data['year'].replace(np.NaN, all_data['Start Date'][45716:])"
   ]
  },
  {
   "cell_type": "code",
   "execution_count": 140,
   "metadata": {},
   "outputs": [
    {
     "output_type": "stream",
     "name": "stdout",
     "text": [
      "id                0\nrecclass      42989\nmass          43120\nfall          42989\nyear            288\nreclat         7327\nreclong        7327\nSession ID    45716\nStart Date    45716\nCity          45728\nCountry       45728\nLatitude      45728\nLongitude     45728\nElevation     45728\ndtype: int64\n"
     ]
    }
   ],
   "source": [
    "print(all_data.isnull().sum())"
   ]
  },
  {
   "cell_type": "code",
   "execution_count": 78,
   "metadata": {},
   "outputs": [
    {
     "output_type": "execute_result",
     "data": {
      "text/plain": [
       "'2008'"
      ]
     },
     "metadata": {},
     "execution_count": 78
    }
   ],
   "source": [
    "test = all_data['Start Date'].iloc[45716]\n",
    "test[:4]"
   ]
  },
  {
   "cell_type": "code",
   "execution_count": 33,
   "metadata": {},
   "outputs": [],
   "source": [
    "# Rename (and Re-drop) columns"
   ]
  },
  {
   "cell_type": "code",
   "execution_count": null,
   "metadata": {},
   "outputs": [],
   "source": [
    "# Check for Catergorical Data (Encoding)"
   ]
  },
  {
   "cell_type": "code",
   "execution_count": null,
   "metadata": {},
   "outputs": [],
   "source": [
    "# Dimensionality Reduction (PCA)"
   ]
  },
  {
   "cell_type": "code",
   "execution_count": null,
   "metadata": {},
   "outputs": [],
   "source": [
    "# Standardization / Normalization"
   ]
  },
  {
   "cell_type": "code",
   "execution_count": null,
   "metadata": {},
   "outputs": [],
   "source": [
    "# Sampling (10%) for better time"
   ]
  },
  {
   "cell_type": "code",
   "execution_count": 36,
   "metadata": {},
   "outputs": [
    {
     "output_type": "execute_result",
     "data": {
      "text/plain": [
       "id              30414\n",
       "recclass         L3.7\n",
       "mass              200\n",
       "fall            Found\n",
       "year             1976\n",
       "reclat        33.9833\n",
       "reclong      -115.683\n",
       "Session ID        NaN\n",
       "Start Date        NaN\n",
       "City              NaN\n",
       "Country           NaN\n",
       "Latitude          NaN\n",
       "Longitude         NaN\n",
       "Elevation         NaN\n",
       "Name: (NASA, 45715), dtype: object"
      ]
     },
     "metadata": {},
     "execution_count": 36
    }
   ],
   "source": [
    "all_data.iloc[45715]"
   ]
  },
  {
   "cell_type": "code",
   "execution_count": null,
   "metadata": {},
   "outputs": [],
   "source": []
  }
 ]
}